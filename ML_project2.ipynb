{
  "cells": [
    {
      "cell_type": "markdown",
      "metadata": {
        "id": "view-in-github",
        "colab_type": "text"
      },
      "source": [
        "<a href=\"https://colab.research.google.com/github/vnewsome/project_chd/blob/main/ML_project2.ipynb\" target=\"_parent\"><img src=\"https://colab.research.google.com/assets/colab-badge.svg\" alt=\"Open In Colab\"/></a>"
      ]
    },
    {
      "cell_type": "markdown",
      "metadata": {
        "id": "fHpVpXeZi6Ra"
      },
      "source": [
        "### DS3001: Machine Learning Project 2\n"
      ]
    },
    {
      "cell_type": "markdown",
      "metadata": {
        "id": "bGAkbi21IKFS"
      },
      "source": [
        "**Introduction**"
      ]
    },
    {
      "cell_type": "markdown",
      "metadata": {
        "id": "VhlPcVE45dqX"
      },
      "source": [
        "This project aimed to make predict the likelihood of a person developing Coronary Heart Disease (CHD) using data from the Framingham Heart Study. We had to evaluate which variables were suitable to include, which of these variables should be used in building predictive algorithms, and how these models can be optimized and combined for better prediction results. Data was examined and cleaned, then linear models were made due to treating multiple variables as numeric. While this produced functional models, they were not especially predictive; we then shifted to treating the variables as categorical using trees. The prediction from this model yielded a much higher statistical significance. Variables that make practical sense best predicted the CHD likelihood, including age and smoking habits. Tree models performed well on the train and test set and could test against other samples of data sets to further test its prediction power, but more variables could also be tested through knn or kmc to validate that the untested variables are not crucial to the CHD model."
      ]
    },
    {
      "cell_type": "code",
      "execution_count": null,
      "metadata": {
        "colab": {
          "base_uri": "https://localhost:8080/"
        },
        "id": "ICSYXQAXinI3",
        "outputId": "ecb1a4cf-cf66-4022-995e-dd8850815119"
      },
      "outputs": [
        {
          "name": "stderr",
          "output_type": "stream",
          "text": [
            "Cloning into 'project_chd'...\n"
          ]
        }
      ],
      "source": [
        "! git clone https://github.com/vnewsome/project_chd"
      ]
    },
    {
      "cell_type": "markdown",
      "metadata": {
        "id": "8DEtVFUKIKFV"
      },
      "source": [
        "**Data Wrangling**"
      ]
    },
    {
      "cell_type": "code",
      "execution_count": null,
      "metadata": {
        "id": "EUL-PA0UjdyO",
        "tags": []
      },
      "outputs": [],
      "source": [
        "# load import statements\n",
        "import numpy as np\n",
        "import pandas as pd\n",
        "import matplotlib.pyplot as plt\n",
        "import seaborn as sns"
      ]
    },
    {
      "cell_type": "code",
      "execution_count": null,
      "metadata": {
        "id": "miNmJ_tLjmIi",
        "tags": []
      },
      "outputs": [],
      "source": [
        "# load the training data\n",
        "train_data = pd.read_csv(\"fhs_train.csv\", low_memory=False)"
      ]
    },
    {
      "cell_type": "code",
      "execution_count": null,
      "metadata": {
        "id": "FSK5TQEpu7A-",
        "tags": []
      },
      "outputs": [],
      "source": [
        "# load the testing data\n",
        "test_data = pd.read_csv(\"fhs_test.csv\", low_memory=False)"
      ]
    },
    {
      "cell_type": "code",
      "execution_count": null,
      "metadata": {
        "colab": {
          "base_uri": "https://localhost:8080/",
          "height": 244
        },
        "id": "a2-RcPpSkHds",
        "outputId": "b16befee-c966-4059-a2bc-c724b511a447",
        "tags": []
      },
      "outputs": [
        {
          "data": {
            "text/html": [
              "<div>\n",
              "<style scoped>\n",
              "    .dataframe tbody tr th:only-of-type {\n",
              "        vertical-align: middle;\n",
              "    }\n",
              "\n",
              "    .dataframe tbody tr th {\n",
              "        vertical-align: top;\n",
              "    }\n",
              "\n",
              "    .dataframe thead th {\n",
              "        text-align: right;\n",
              "    }\n",
              "</style>\n",
              "<table border=\"1\" class=\"dataframe\">\n",
              "  <thead>\n",
              "    <tr style=\"text-align: right;\">\n",
              "      <th></th>\n",
              "      <th>Unnamed: 0</th>\n",
              "      <th>sex</th>\n",
              "      <th>age</th>\n",
              "      <th>education</th>\n",
              "      <th>currentSmoker</th>\n",
              "      <th>cigsPerDay</th>\n",
              "      <th>BPMeds</th>\n",
              "      <th>prevalentStroke</th>\n",
              "      <th>prevalentHyp</th>\n",
              "      <th>diabetes</th>\n",
              "      <th>totChol</th>\n",
              "      <th>sysBP</th>\n",
              "      <th>diaBP</th>\n",
              "      <th>BMI</th>\n",
              "      <th>heartRate</th>\n",
              "      <th>glucose</th>\n",
              "      <th>TenYearCHD</th>\n",
              "    </tr>\n",
              "  </thead>\n",
              "  <tbody>\n",
              "    <tr>\n",
              "      <th>0</th>\n",
              "      <td>1267</td>\n",
              "      <td>1</td>\n",
              "      <td>58</td>\n",
              "      <td>1.0</td>\n",
              "      <td>0</td>\n",
              "      <td>0.0</td>\n",
              "      <td>0.0</td>\n",
              "      <td>0</td>\n",
              "      <td>0</td>\n",
              "      <td>0</td>\n",
              "      <td>220.0</td>\n",
              "      <td>143.0</td>\n",
              "      <td>104.0</td>\n",
              "      <td>29.85</td>\n",
              "      <td>75</td>\n",
              "      <td>87.0</td>\n",
              "      <td>1</td>\n",
              "    </tr>\n",
              "    <tr>\n",
              "      <th>1</th>\n",
              "      <td>1209</td>\n",
              "      <td>0</td>\n",
              "      <td>40</td>\n",
              "      <td>1.0</td>\n",
              "      <td>1</td>\n",
              "      <td>15.0</td>\n",
              "      <td>0.0</td>\n",
              "      <td>0</td>\n",
              "      <td>0</td>\n",
              "      <td>0</td>\n",
              "      <td>199.0</td>\n",
              "      <td>122.0</td>\n",
              "      <td>82.0</td>\n",
              "      <td>22.16</td>\n",
              "      <td>85</td>\n",
              "      <td>77.0</td>\n",
              "      <td>0</td>\n",
              "    </tr>\n",
              "    <tr>\n",
              "      <th>2</th>\n",
              "      <td>2050</td>\n",
              "      <td>0</td>\n",
              "      <td>52</td>\n",
              "      <td>1.0</td>\n",
              "      <td>0</td>\n",
              "      <td>0.0</td>\n",
              "      <td>0.0</td>\n",
              "      <td>0</td>\n",
              "      <td>0</td>\n",
              "      <td>0</td>\n",
              "      <td>275.0</td>\n",
              "      <td>112.0</td>\n",
              "      <td>71.0</td>\n",
              "      <td>25.68</td>\n",
              "      <td>80</td>\n",
              "      <td>NaN</td>\n",
              "      <td>0</td>\n",
              "    </tr>\n",
              "    <tr>\n",
              "      <th>3</th>\n",
              "      <td>1183</td>\n",
              "      <td>1</td>\n",
              "      <td>38</td>\n",
              "      <td>2.0</td>\n",
              "      <td>1</td>\n",
              "      <td>43.0</td>\n",
              "      <td>0.0</td>\n",
              "      <td>0</td>\n",
              "      <td>1</td>\n",
              "      <td>0</td>\n",
              "      <td>170.0</td>\n",
              "      <td>130.0</td>\n",
              "      <td>94.0</td>\n",
              "      <td>23.90</td>\n",
              "      <td>110</td>\n",
              "      <td>75.0</td>\n",
              "      <td>0</td>\n",
              "    </tr>\n",
              "    <tr>\n",
              "      <th>4</th>\n",
              "      <td>3225</td>\n",
              "      <td>0</td>\n",
              "      <td>43</td>\n",
              "      <td>1.0</td>\n",
              "      <td>0</td>\n",
              "      <td>0.0</td>\n",
              "      <td>0.0</td>\n",
              "      <td>0</td>\n",
              "      <td>0</td>\n",
              "      <td>0</td>\n",
              "      <td>202.0</td>\n",
              "      <td>124.0</td>\n",
              "      <td>92.0</td>\n",
              "      <td>21.26</td>\n",
              "      <td>75</td>\n",
              "      <td>74.0</td>\n",
              "      <td>0</td>\n",
              "    </tr>\n",
              "  </tbody>\n",
              "</table>\n",
              "</div>"
            ],
            "text/plain": [
              "   Unnamed: 0  sex  age  education  currentSmoker  cigsPerDay  BPMeds  \\\n",
              "0        1267    1   58        1.0              0         0.0     0.0   \n",
              "1        1209    0   40        1.0              1        15.0     0.0   \n",
              "2        2050    0   52        1.0              0         0.0     0.0   \n",
              "3        1183    1   38        2.0              1        43.0     0.0   \n",
              "4        3225    0   43        1.0              0         0.0     0.0   \n",
              "\n",
              "   prevalentStroke  prevalentHyp  diabetes  totChol  sysBP  diaBP    BMI  \\\n",
              "0                0             0         0    220.0  143.0  104.0  29.85   \n",
              "1                0             0         0    199.0  122.0   82.0  22.16   \n",
              "2                0             0         0    275.0  112.0   71.0  25.68   \n",
              "3                0             1         0    170.0  130.0   94.0  23.90   \n",
              "4                0             0         0    202.0  124.0   92.0  21.26   \n",
              "\n",
              "   heartRate  glucose  TenYearCHD  \n",
              "0         75     87.0           1  \n",
              "1         85     77.0           0  \n",
              "2         80      NaN           0  \n",
              "3        110     75.0           0  \n",
              "4         75     74.0           0  "
            ]
          },
          "execution_count": 4,
          "metadata": {},
          "output_type": "execute_result"
        }
      ],
      "source": [
        "# examining train_data\n",
        "train_data.head()"
      ]
    },
    {
      "cell_type": "code",
      "execution_count": null,
      "metadata": {
        "colab": {
          "base_uri": "https://localhost:8080/",
          "height": 244
        },
        "id": "4Ik2B9tevGG6",
        "outputId": "dcd0560c-7bd2-47a7-fe02-74d398d61488",
        "tags": []
      },
      "outputs": [
        {
          "data": {
            "text/html": [
              "<div>\n",
              "<style scoped>\n",
              "    .dataframe tbody tr th:only-of-type {\n",
              "        vertical-align: middle;\n",
              "    }\n",
              "\n",
              "    .dataframe tbody tr th {\n",
              "        vertical-align: top;\n",
              "    }\n",
              "\n",
              "    .dataframe thead th {\n",
              "        text-align: right;\n",
              "    }\n",
              "</style>\n",
              "<table border=\"1\" class=\"dataframe\">\n",
              "  <thead>\n",
              "    <tr style=\"text-align: right;\">\n",
              "      <th></th>\n",
              "      <th>Unnamed: 0</th>\n",
              "      <th>sex</th>\n",
              "      <th>age</th>\n",
              "      <th>education</th>\n",
              "      <th>currentSmoker</th>\n",
              "      <th>cigsPerDay</th>\n",
              "      <th>BPMeds</th>\n",
              "      <th>prevalentStroke</th>\n",
              "      <th>prevalentHyp</th>\n",
              "      <th>diabetes</th>\n",
              "      <th>totChol</th>\n",
              "      <th>sysBP</th>\n",
              "      <th>diaBP</th>\n",
              "      <th>BMI</th>\n",
              "      <th>heartRate</th>\n",
              "      <th>glucose</th>\n",
              "      <th>TenYearCHD</th>\n",
              "    </tr>\n",
              "  </thead>\n",
              "  <tbody>\n",
              "    <tr>\n",
              "      <th>0</th>\n",
              "      <td>674</td>\n",
              "      <td>0</td>\n",
              "      <td>58</td>\n",
              "      <td>1.0</td>\n",
              "      <td>1</td>\n",
              "      <td>20.0</td>\n",
              "      <td>0.0</td>\n",
              "      <td>0</td>\n",
              "      <td>0</td>\n",
              "      <td>0</td>\n",
              "      <td>NaN</td>\n",
              "      <td>126.0</td>\n",
              "      <td>77.0</td>\n",
              "      <td>30.08</td>\n",
              "      <td>78.0</td>\n",
              "      <td>NaN</td>\n",
              "      <td>0</td>\n",
              "    </tr>\n",
              "    <tr>\n",
              "      <th>1</th>\n",
              "      <td>4070</td>\n",
              "      <td>0</td>\n",
              "      <td>51</td>\n",
              "      <td>3.0</td>\n",
              "      <td>0</td>\n",
              "      <td>0.0</td>\n",
              "      <td>0.0</td>\n",
              "      <td>0</td>\n",
              "      <td>0</td>\n",
              "      <td>0</td>\n",
              "      <td>264.0</td>\n",
              "      <td>135.0</td>\n",
              "      <td>83.0</td>\n",
              "      <td>26.68</td>\n",
              "      <td>60.0</td>\n",
              "      <td>74.0</td>\n",
              "      <td>0</td>\n",
              "    </tr>\n",
              "    <tr>\n",
              "      <th>2</th>\n",
              "      <td>3150</td>\n",
              "      <td>0</td>\n",
              "      <td>44</td>\n",
              "      <td>2.0</td>\n",
              "      <td>1</td>\n",
              "      <td>9.0</td>\n",
              "      <td>0.0</td>\n",
              "      <td>0</td>\n",
              "      <td>1</td>\n",
              "      <td>0</td>\n",
              "      <td>NaN</td>\n",
              "      <td>147.5</td>\n",
              "      <td>96.0</td>\n",
              "      <td>30.57</td>\n",
              "      <td>78.0</td>\n",
              "      <td>NaN</td>\n",
              "      <td>1</td>\n",
              "    </tr>\n",
              "    <tr>\n",
              "      <th>3</th>\n",
              "      <td>1695</td>\n",
              "      <td>0</td>\n",
              "      <td>40</td>\n",
              "      <td>2.0</td>\n",
              "      <td>1</td>\n",
              "      <td>20.0</td>\n",
              "      <td>0.0</td>\n",
              "      <td>0</td>\n",
              "      <td>0</td>\n",
              "      <td>0</td>\n",
              "      <td>271.0</td>\n",
              "      <td>138.5</td>\n",
              "      <td>88.0</td>\n",
              "      <td>27.24</td>\n",
              "      <td>80.0</td>\n",
              "      <td>NaN</td>\n",
              "      <td>1</td>\n",
              "    </tr>\n",
              "    <tr>\n",
              "      <th>4</th>\n",
              "      <td>2692</td>\n",
              "      <td>1</td>\n",
              "      <td>58</td>\n",
              "      <td>2.0</td>\n",
              "      <td>1</td>\n",
              "      <td>20.0</td>\n",
              "      <td>0.0</td>\n",
              "      <td>0</td>\n",
              "      <td>0</td>\n",
              "      <td>0</td>\n",
              "      <td>207.0</td>\n",
              "      <td>110.0</td>\n",
              "      <td>80.0</td>\n",
              "      <td>23.55</td>\n",
              "      <td>78.0</td>\n",
              "      <td>78.0</td>\n",
              "      <td>0</td>\n",
              "    </tr>\n",
              "  </tbody>\n",
              "</table>\n",
              "</div>"
            ],
            "text/plain": [
              "   Unnamed: 0  sex  age  education  currentSmoker  cigsPerDay  BPMeds  \\\n",
              "0         674    0   58        1.0              1        20.0     0.0   \n",
              "1        4070    0   51        3.0              0         0.0     0.0   \n",
              "2        3150    0   44        2.0              1         9.0     0.0   \n",
              "3        1695    0   40        2.0              1        20.0     0.0   \n",
              "4        2692    1   58        2.0              1        20.0     0.0   \n",
              "\n",
              "   prevalentStroke  prevalentHyp  diabetes  totChol  sysBP  diaBP    BMI  \\\n",
              "0                0             0         0      NaN  126.0   77.0  30.08   \n",
              "1                0             0         0    264.0  135.0   83.0  26.68   \n",
              "2                0             1         0      NaN  147.5   96.0  30.57   \n",
              "3                0             0         0    271.0  138.5   88.0  27.24   \n",
              "4                0             0         0    207.0  110.0   80.0  23.55   \n",
              "\n",
              "   heartRate  glucose  TenYearCHD  \n",
              "0       78.0      NaN           0  \n",
              "1       60.0     74.0           0  \n",
              "2       78.0      NaN           1  \n",
              "3       80.0      NaN           1  \n",
              "4       78.0     78.0           0  "
            ]
          },
          "execution_count": 5,
          "metadata": {},
          "output_type": "execute_result"
        }
      ],
      "source": [
        "# examining test_data\n",
        "test_data.head()"
      ]
    },
    {
      "cell_type": "code",
      "execution_count": null,
      "metadata": {
        "colab": {
          "base_uri": "https://localhost:8080/"
        },
        "id": "SChQPqNKmHHJ",
        "outputId": "50012e37-13df-4092-aa4c-a1e6832deb80",
        "tags": []
      },
      "outputs": [
        {
          "name": "stdout",
          "output_type": "stream",
          "text": [
            "Unnamed: 0           int64\n",
            "sex                  int64\n",
            "age                  int64\n",
            "education          float64\n",
            "currentSmoker        int64\n",
            "cigsPerDay         float64\n",
            "BPMeds             float64\n",
            "prevalentStroke      int64\n",
            "prevalentHyp         int64\n",
            "diabetes             int64\n",
            "totChol            float64\n",
            "sysBP              float64\n",
            "diaBP              float64\n",
            "BMI                float64\n",
            "heartRate            int64\n",
            "glucose            float64\n",
            "TenYearCHD           int64\n",
            "dtype: object\n"
          ]
        }
      ],
      "source": [
        "# examining train_data types\n",
        "column_dtypes = train_data.dtypes\n",
        "print(column_dtypes)"
      ]
    },
    {
      "cell_type": "code",
      "execution_count": null,
      "metadata": {
        "colab": {
          "base_uri": "https://localhost:8080/"
        },
        "id": "JemWlEmZv03H",
        "outputId": "733ebdda-5287-462e-a7f4-d49c4c346323",
        "tags": []
      },
      "outputs": [
        {
          "name": "stdout",
          "output_type": "stream",
          "text": [
            "Unnamed: 0           int64\n",
            "sex                  int64\n",
            "age                  int64\n",
            "education          float64\n",
            "currentSmoker        int64\n",
            "cigsPerDay         float64\n",
            "BPMeds             float64\n",
            "prevalentStroke      int64\n",
            "prevalentHyp         int64\n",
            "diabetes             int64\n",
            "totChol            float64\n",
            "sysBP              float64\n",
            "diaBP              float64\n",
            "BMI                float64\n",
            "heartRate          float64\n",
            "glucose            float64\n",
            "TenYearCHD           int64\n",
            "dtype: object\n"
          ]
        }
      ],
      "source": [
        "# examining test_data types\n",
        "column_dtypes = test_data.dtypes\n",
        "print(column_dtypes)"
      ]
    },
    {
      "cell_type": "code",
      "execution_count": null,
      "metadata": {
        "colab": {
          "base_uri": "https://localhost:8080/"
        },
        "id": "MwpuDO0Sw3ey",
        "outputId": "be77ede3-3881-426e-c480-1379e5f8cc33",
        "tags": []
      },
      "outputs": [
        {
          "name": "stdout",
          "output_type": "stream",
          "text": [
            "float64\n"
          ]
        }
      ],
      "source": [
        "# looks like heartRate is a float in the test data but an int in the training data\n",
        "# we'll go ahead and make sure they match up by changing the data type in the training data to a float\n",
        "train_data['heartRate'] = train_data['heartRate'].astype(float)\n",
        "print(train_data['heartRate'].dtypes)"
      ]
    },
    {
      "cell_type": "code",
      "execution_count": null,
      "metadata": {
        "colab": {
          "base_uri": "https://localhost:8080/"
        },
        "id": "KVYYf5s1-Ed1",
        "outputId": "966bb4b2-9a32-47e8-c71e-d5ffc9ff1e70",
        "tags": []
      },
      "outputs": [
        {
          "name": "stdout",
          "output_type": "stream",
          "text": [
            "Unnamed: 0           0\n",
            "sex                  0\n",
            "age                  0\n",
            "education           85\n",
            "currentSmoker        0\n",
            "cigsPerDay          24\n",
            "BPMeds              37\n",
            "prevalentStroke      0\n",
            "prevalentHyp         0\n",
            "diabetes             0\n",
            "totChol             39\n",
            "sysBP                0\n",
            "diaBP                0\n",
            "BMI                 15\n",
            "heartRate            0\n",
            "glucose            285\n",
            "TenYearCHD           0\n",
            "dtype: int64\n",
            "\n",
            " Unnamed: 0         3180\n",
            "sex                3180\n",
            "age                3180\n",
            "education          3095\n",
            "currentSmoker      3180\n",
            "cigsPerDay         3156\n",
            "BPMeds             3143\n",
            "prevalentStroke    3180\n",
            "prevalentHyp       3180\n",
            "diabetes           3180\n",
            "totChol            3141\n",
            "sysBP              3180\n",
            "diaBP              3180\n",
            "BMI                3165\n",
            "heartRate          3180\n",
            "glucose            2895\n",
            "TenYearCHD         3180\n",
            "dtype: int64\n"
          ]
        }
      ],
      "source": [
        "# determining how many NaNs are in train_data\n",
        "nan_columns = train_data.isnull().sum()\n",
        "print(nan_columns)\n",
        "total_columns = train_data.count()\n",
        "print('\\n', total_columns)\n",
        "\n",
        "# variables in the TRAINING data that contain nans: education, cigsPerDay, BPMeds, totChol, BMI, glucose\n",
        "# glucose is the only column with a high percentage of nans (~9%)\n",
        "# NOTE: Nan values are left in for now** they will be removed if there is a problem later on"
      ]
    },
    {
      "cell_type": "code",
      "execution_count": null,
      "metadata": {
        "colab": {
          "base_uri": "https://localhost:8080/"
        },
        "id": "SW1enpxYw5_b",
        "outputId": "8f1d8e80-a836-404c-c017-a1bdcb916d43",
        "tags": []
      },
      "outputs": [
        {
          "name": "stdout",
          "output_type": "stream",
          "text": [
            "Unnamed: 0           0\n",
            "sex                  0\n",
            "age                  0\n",
            "education           20\n",
            "currentSmoker        0\n",
            "cigsPerDay           5\n",
            "BPMeds              16\n",
            "prevalentStroke      0\n",
            "prevalentHyp         0\n",
            "diabetes             0\n",
            "totChol             11\n",
            "sysBP                0\n",
            "diaBP                0\n",
            "BMI                  4\n",
            "heartRate            1\n",
            "glucose            103\n",
            "TenYearCHD           0\n",
            "dtype: int64\n",
            "Unnamed: 0         1060\n",
            "sex                1060\n",
            "age                1060\n",
            "education          1040\n",
            "currentSmoker      1060\n",
            "cigsPerDay         1055\n",
            "BPMeds             1044\n",
            "prevalentStroke    1060\n",
            "prevalentHyp       1060\n",
            "diabetes           1060\n",
            "totChol            1049\n",
            "sysBP              1060\n",
            "diaBP              1060\n",
            "BMI                1056\n",
            "heartRate          1059\n",
            "glucose             957\n",
            "TenYearCHD         1060\n",
            "dtype: int64\n"
          ]
        }
      ],
      "source": [
        "# determining how many NaNs are in test_data\n",
        "nan_columns = test_data.isnull().sum()\n",
        "print(nan_columns)\n",
        "total_columns = test_data.count()\n",
        "print(total_columns)\n",
        "\n",
        "# variables in the TEST data that contain nans: education, cigsPerDay, BPMeds, totChol, BMI, heartRate, glucose\n",
        "# glucose has a higher proportion of Nans in the testing data ~10%\n",
        "# NOTE: Nan values are left in for now** they will be removed if there is a problem later on"
      ]
    },
    {
      "cell_type": "code",
      "execution_count": null,
      "metadata": {
        "tags": [],
        "id": "luk_ebUlIKFa",
        "outputId": "67c5ac5e-f853-4d77-8d8e-911f92b6fc23"
      },
      "outputs": [
        {
          "name": "stdout",
          "output_type": "stream",
          "text": [
            "count    3095.000000\n",
            "mean        1.957027\n",
            "std         1.011135\n",
            "min         1.000000\n",
            "25%         1.000000\n",
            "50%         2.000000\n",
            "75%         3.000000\n",
            "max         4.000000\n",
            "Name: education, dtype: float64\n",
            "count    3156.000000\n",
            "mean        8.970532\n",
            "std        12.013704\n",
            "min         0.000000\n",
            "25%         0.000000\n",
            "50%         0.000000\n",
            "75%        20.000000\n",
            "max        70.000000\n",
            "Name: cigsPerDay, dtype: float64\n",
            "count    3143.000000\n",
            "mean        0.029590\n",
            "std         0.169479\n",
            "min         0.000000\n",
            "25%         0.000000\n",
            "50%         0.000000\n",
            "75%         0.000000\n",
            "max         1.000000\n",
            "Name: BPMeds, dtype: float64\n",
            "count    3141.000000\n",
            "mean      236.600764\n",
            "std        44.847411\n",
            "min       107.000000\n",
            "25%       205.000000\n",
            "50%       233.000000\n",
            "75%       262.000000\n",
            "max       696.000000\n",
            "Name: totChol, dtype: float64\n",
            "count    3165.000000\n",
            "mean       25.888117\n",
            "std         4.130475\n",
            "min        15.540000\n",
            "25%        23.100000\n",
            "50%        25.490000\n",
            "75%        28.140000\n",
            "max        56.800000\n",
            "Name: BMI, dtype: float64\n",
            "count    1040.000000\n",
            "mean        2.046154\n",
            "std         1.042774\n",
            "min         1.000000\n",
            "25%         1.000000\n",
            "50%         2.000000\n",
            "75%         3.000000\n",
            "max         4.000000\n",
            "Name: education, dtype: float64\n",
            "count    1055.000000\n",
            "mean        9.111848\n",
            "std        11.650215\n",
            "min         0.000000\n",
            "25%         0.000000\n",
            "50%         1.000000\n",
            "75%        20.000000\n",
            "max        60.000000\n",
            "Name: cigsPerDay, dtype: float64\n",
            "count    1044.000000\n",
            "mean        0.029693\n",
            "std         0.169822\n",
            "min         0.000000\n",
            "25%         0.000000\n",
            "50%         0.000000\n",
            "75%         0.000000\n",
            "max         1.000000\n",
            "Name: BPMeds, dtype: float64\n",
            "count    1049.000000\n",
            "mean      236.995234\n",
            "std        43.835233\n",
            "min       124.000000\n",
            "25%       206.000000\n",
            "50%       235.000000\n",
            "75%       265.000000\n",
            "max       453.000000\n",
            "Name: totChol, dtype: float64\n",
            "count    1056.000000\n",
            "mean       25.539100\n",
            "std         3.914418\n",
            "min        15.960000\n",
            "25%        22.850000\n",
            "50%        25.140000\n",
            "75%        27.860000\n",
            "max        45.790000\n",
            "Name: BMI, dtype: float64\n",
            "count    1059.000000\n",
            "mean       75.689330\n",
            "std        11.953153\n",
            "min        45.000000\n",
            "25%        68.000000\n",
            "50%        75.000000\n",
            "75%        82.000000\n",
            "max       143.000000\n",
            "Name: heartRate, dtype: float64\n"
          ]
        }
      ],
      "source": [
        "# Examing how to impute NANs in train_data, and apply same imputes to test_data for consistency (same parent dataset)\n",
        "print(train_data['education'].describe())\n",
        "print(train_data['cigsPerDay'].describe())\n",
        "print(train_data['BPMeds'].describe())\n",
        "print(train_data['totChol'].describe())\n",
        "print(train_data['BMI'].describe())\n",
        "print(test_data['education'].describe())\n",
        "print(test_data['cigsPerDay'].describe())\n",
        "print(test_data['BPMeds'].describe())\n",
        "print(test_data['totChol'].describe())\n",
        "print(test_data['BMI'].describe())\n",
        "print(test_data['heartRate'].describe())\n",
        "\n",
        "# Can impute them all to the median"
      ]
    },
    {
      "cell_type": "code",
      "execution_count": null,
      "metadata": {
        "id": "p34S6OX-6INi",
        "tags": []
      },
      "outputs": [],
      "source": [
        "# Relatively few missings for everything except glucose, so impute those values to the median\n",
        "# medians were filled in manually in the dictionary, tried to make it generalizable but ran into many datatype errors (methods vs ints vs objects)\n",
        "\n",
        "# Imputing train_data\n",
        "train_coerce_list = ['education','cigsPerDay','BPMeds','totChol','BMI']\n",
        "train_median_dict = {'education': 2.0,'cigsPerDay' : 0.0,'BPMeds' : 0.0,'totChol' : 233.0,'BMI' : 25.49}\n",
        "train_data.loc[:,train_coerce_list] = train_data.fillna(train_median_dict)\n",
        "\n",
        "# Imputing test_data\n",
        "test_coerce_list = ['education','cigsPerDay','BPMeds','totChol','BMI','heartRate']\n",
        "test_median_dict = {'education': 2.0,'cigsPerDay' : 1.0,'BPMeds' : 0.0,'totChol' : 235.0,'BMI' : 25.14,'heartRate' : 75}\n",
        "test_data.loc[:,test_coerce_list] = test_data.fillna(test_median_dict)"
      ]
    },
    {
      "cell_type": "code",
      "execution_count": null,
      "metadata": {
        "tags": [],
        "id": "hVauXIvnIKFb"
      },
      "outputs": [],
      "source": [
        "# dropping NAs from glucose in both the train and test data\n",
        "train_data = train_data.dropna(subset=['glucose'])\n",
        "test_data = test_data.dropna(subset=['glucose'])"
      ]
    },
    {
      "cell_type": "code",
      "execution_count": null,
      "metadata": {
        "tags": [],
        "id": "vLTJTe3IIKFb",
        "outputId": "49df7368-6e4f-419a-e75a-94f1ad0f8c0e"
      },
      "outputs": [
        {
          "name": "stdout",
          "output_type": "stream",
          "text": [
            "count    2895.000000\n",
            "mean        1.953022\n",
            "std         0.997164\n",
            "min         1.000000\n",
            "25%         1.000000\n",
            "50%         2.000000\n",
            "75%         3.000000\n",
            "max         4.000000\n",
            "Name: education, dtype: float64\n",
            "count    2895.000000\n",
            "mean        8.937133\n",
            "std        12.026126\n",
            "min         0.000000\n",
            "25%         0.000000\n",
            "50%         0.000000\n",
            "75%        20.000000\n",
            "max        70.000000\n",
            "Name: cigsPerDay, dtype: float64\n",
            "count    2895.000000\n",
            "mean        0.029706\n",
            "std         0.169805\n",
            "min         0.000000\n",
            "25%         0.000000\n",
            "50%         0.000000\n",
            "75%         0.000000\n",
            "max         1.000000\n",
            "Name: BPMeds, dtype: float64\n",
            "count    2895.000000\n",
            "mean      236.858377\n",
            "std        44.904398\n",
            "min       107.000000\n",
            "25%       206.000000\n",
            "50%       233.000000\n",
            "75%       263.000000\n",
            "max       696.000000\n",
            "Name: totChol, dtype: float64\n",
            "count    2895.000000\n",
            "mean       25.914149\n",
            "std         4.131962\n",
            "min        15.540000\n",
            "25%        23.170000\n",
            "50%        25.500000\n",
            "75%        28.155000\n",
            "max        56.800000\n",
            "Name: BMI, dtype: float64\n",
            "count    957.000000\n",
            "mean       2.053292\n",
            "std        1.041142\n",
            "min        1.000000\n",
            "25%        1.000000\n",
            "50%        2.000000\n",
            "75%        3.000000\n",
            "max        4.000000\n",
            "Name: education, dtype: float64\n",
            "count    957.000000\n",
            "mean       8.886102\n",
            "std       11.503346\n",
            "min        0.000000\n",
            "25%        0.000000\n",
            "50%        0.000000\n",
            "75%       20.000000\n",
            "max       60.000000\n",
            "Name: cigsPerDay, dtype: float64\n",
            "count    957.000000\n",
            "mean       0.029258\n",
            "std        0.168617\n",
            "min        0.000000\n",
            "25%        0.000000\n",
            "50%        0.000000\n",
            "75%        0.000000\n",
            "max        1.000000\n",
            "Name: BPMeds, dtype: float64\n",
            "count    957.000000\n",
            "mean     237.298851\n",
            "std       44.155802\n",
            "min      124.000000\n",
            "25%      206.000000\n",
            "50%      235.000000\n",
            "75%      265.000000\n",
            "max      453.000000\n",
            "Name: totChol, dtype: float64\n",
            "count    957.000000\n",
            "mean      25.486238\n",
            "std        3.809115\n",
            "min       15.960000\n",
            "25%       22.900000\n",
            "50%       25.090000\n",
            "75%       27.800000\n",
            "max       43.300000\n",
            "Name: BMI, dtype: float64\n",
            "count    957.000000\n",
            "mean      75.532915\n",
            "std       11.808718\n",
            "min       45.000000\n",
            "25%       67.000000\n",
            "50%       75.000000\n",
            "75%       81.000000\n",
            "max      143.000000\n",
            "Name: heartRate, dtype: float64\n"
          ]
        }
      ],
      "source": [
        "print(train_data['education'].describe())\n",
        "print(train_data['cigsPerDay'].describe())\n",
        "print(train_data['BPMeds'].describe())\n",
        "print(train_data['totChol'].describe())\n",
        "print(train_data['BMI'].describe())\n",
        "print(test_data['education'].describe())\n",
        "print(test_data['cigsPerDay'].describe())\n",
        "print(test_data['BPMeds'].describe())\n",
        "print(test_data['totChol'].describe())\n",
        "print(test_data['BMI'].describe())\n",
        "print(test_data['heartRate'].describe())"
      ]
    },
    {
      "cell_type": "code",
      "execution_count": null,
      "metadata": {
        "tags": [],
        "id": "mxuxDdBDIKFc",
        "outputId": "366b7577-c4a5-4d9c-a7ff-32c38a560a7a"
      },
      "outputs": [
        {
          "name": "stdout",
          "output_type": "stream",
          "text": [
            "Unnamed: 0         0\n",
            "sex                0\n",
            "age                0\n",
            "education          0\n",
            "currentSmoker      0\n",
            "cigsPerDay         0\n",
            "BPMeds             0\n",
            "prevalentStroke    0\n",
            "prevalentHyp       0\n",
            "diabetes           0\n",
            "totChol            0\n",
            "sysBP              0\n",
            "diaBP              0\n",
            "BMI                0\n",
            "heartRate          0\n",
            "glucose            0\n",
            "TenYearCHD         0\n",
            "dtype: int64\n"
          ]
        }
      ],
      "source": [
        "nan_columns = test_data.isnull().sum()\n",
        "print(nan_columns)"
      ]
    },
    {
      "cell_type": "code",
      "execution_count": null,
      "metadata": {
        "tags": [],
        "id": "FzIKMguLIKFc",
        "outputId": "cce1a261-97a0-4eb3-d85a-b550a27ff1fb"
      },
      "outputs": [
        {
          "name": "stdout",
          "output_type": "stream",
          "text": [
            "Unnamed: 0         0\n",
            "sex                0\n",
            "age                0\n",
            "education          0\n",
            "currentSmoker      0\n",
            "cigsPerDay         0\n",
            "BPMeds             0\n",
            "prevalentStroke    0\n",
            "prevalentHyp       0\n",
            "diabetes           0\n",
            "totChol            0\n",
            "sysBP              0\n",
            "diaBP              0\n",
            "BMI                0\n",
            "heartRate          0\n",
            "glucose            0\n",
            "TenYearCHD         0\n",
            "dtype: int64\n"
          ]
        }
      ],
      "source": [
        "nan_columns = train_data.isnull().sum()\n",
        "print(nan_columns)"
      ]
    },
    {
      "cell_type": "markdown",
      "metadata": {
        "id": "-MWAhSK7IKFc"
      },
      "source": [
        "**Data Exploration**"
      ]
    },
    {
      "cell_type": "code",
      "execution_count": null,
      "metadata": {
        "tags": [],
        "id": "sr9NXGmOIKFc",
        "outputId": "2e0c6a73-594e-4d36-cff6-21714b4a2dc8"
      },
      "outputs": [
        {
          "data": {
            "text/html": [
              "<div>\n",
              "<style scoped>\n",
              "    .dataframe tbody tr th:only-of-type {\n",
              "        vertical-align: middle;\n",
              "    }\n",
              "\n",
              "    .dataframe tbody tr th {\n",
              "        vertical-align: top;\n",
              "    }\n",
              "\n",
              "    .dataframe thead th {\n",
              "        text-align: right;\n",
              "    }\n",
              "</style>\n",
              "<table border=\"1\" class=\"dataframe\">\n",
              "  <thead>\n",
              "    <tr style=\"text-align: right;\">\n",
              "      <th></th>\n",
              "      <th>Unnamed: 0</th>\n",
              "      <th>sex</th>\n",
              "      <th>age</th>\n",
              "      <th>education</th>\n",
              "      <th>currentSmoker</th>\n",
              "      <th>cigsPerDay</th>\n",
              "      <th>BPMeds</th>\n",
              "      <th>prevalentStroke</th>\n",
              "      <th>prevalentHyp</th>\n",
              "      <th>diabetes</th>\n",
              "      <th>totChol</th>\n",
              "      <th>sysBP</th>\n",
              "      <th>diaBP</th>\n",
              "      <th>BMI</th>\n",
              "      <th>heartRate</th>\n",
              "      <th>glucose</th>\n",
              "    </tr>\n",
              "    <tr>\n",
              "      <th>TenYearCHD</th>\n",
              "      <th></th>\n",
              "      <th></th>\n",
              "      <th></th>\n",
              "      <th></th>\n",
              "      <th></th>\n",
              "      <th></th>\n",
              "      <th></th>\n",
              "      <th></th>\n",
              "      <th></th>\n",
              "      <th></th>\n",
              "      <th></th>\n",
              "      <th></th>\n",
              "      <th></th>\n",
              "      <th></th>\n",
              "      <th></th>\n",
              "      <th></th>\n",
              "    </tr>\n",
              "  </thead>\n",
              "  <tbody>\n",
              "    <tr>\n",
              "      <th>0</th>\n",
              "      <td>2138.227682</td>\n",
              "      <td>0.427109</td>\n",
              "      <td>48.810401</td>\n",
              "      <td>1.978296</td>\n",
              "      <td>0.488124</td>\n",
              "      <td>8.681409</td>\n",
              "      <td>0.023342</td>\n",
              "      <td>0.004505</td>\n",
              "      <td>0.289107</td>\n",
              "      <td>0.020475</td>\n",
              "      <td>234.698198</td>\n",
              "      <td>130.835586</td>\n",
              "      <td>82.471744</td>\n",
              "      <td>25.771482</td>\n",
              "      <td>75.678542</td>\n",
              "      <td>80.546683</td>\n",
              "    </tr>\n",
              "    <tr>\n",
              "      <th>1</th>\n",
              "      <td>2079.558499</td>\n",
              "      <td>0.558499</td>\n",
              "      <td>54.300221</td>\n",
              "      <td>1.816777</td>\n",
              "      <td>0.492274</td>\n",
              "      <td>10.315673</td>\n",
              "      <td>0.064018</td>\n",
              "      <td>0.019868</td>\n",
              "      <td>0.507726</td>\n",
              "      <td>0.068433</td>\n",
              "      <td>248.503311</td>\n",
              "      <td>143.972406</td>\n",
              "      <td>86.974614</td>\n",
              "      <td>26.683223</td>\n",
              "      <td>76.452539</td>\n",
              "      <td>88.770419</td>\n",
              "    </tr>\n",
              "  </tbody>\n",
              "</table>\n",
              "</div>"
            ],
            "text/plain": [
              "             Unnamed: 0       sex        age  education  currentSmoker  \\\n",
              "TenYearCHD                                                               \n",
              "0           2138.227682  0.427109  48.810401   1.978296       0.488124   \n",
              "1           2079.558499  0.558499  54.300221   1.816777       0.492274   \n",
              "\n",
              "            cigsPerDay    BPMeds  prevalentStroke  prevalentHyp  diabetes  \\\n",
              "TenYearCHD                                                                  \n",
              "0             8.681409  0.023342         0.004505      0.289107  0.020475   \n",
              "1            10.315673  0.064018         0.019868      0.507726  0.068433   \n",
              "\n",
              "               totChol       sysBP      diaBP        BMI  heartRate    glucose  \n",
              "TenYearCHD                                                                      \n",
              "0           234.698198  130.835586  82.471744  25.771482  75.678542  80.546683  \n",
              "1           248.503311  143.972406  86.974614  26.683223  76.452539  88.770419  "
            ]
          },
          "execution_count": 25,
          "metadata": {},
          "output_type": "execute_result"
        }
      ],
      "source": [
        "# examining relationships between columns before building a model to identify patterns/correlations\n",
        "# TenYearCHD: assuming 1 indicates an at risk individual (note: this was not noted in the data dictionary)\n",
        "# totChol and 10-year risk of CHD have a higher mean when compared to no risk\n",
        "# possible relationship bw age and ten year CHD risk\n",
        "train_data.groupby('TenYearCHD').mean()"
      ]
    },
    {
      "cell_type": "markdown",
      "metadata": {
        "id": "lqCqgQcZIKFd"
      },
      "source": [
        "*Maybe calculate % difference here if we want, probably not necessary though?*"
      ]
    },
    {
      "cell_type": "markdown",
      "metadata": {
        "id": "KzeZOM1Uf3AT"
      },
      "source": [
        "After examining the training data, no variables were observed to contain more than 10% nans. totChol, BMI, cigsPerDay, and age all could be interesting variables to model with, due to the correlation between increased values for these variables among individuals who developed CHD in ten years. This does not exclude other variables, but all of this subset could be helpful in predicting if an individual is likely to CHD. Linear models with these variables could likely provide useful prediction, especially if using variables which show a stronger grouping towards individuals who not develop CHD and individuals who do develop CHD. Note that BMI does not show as much variation between groups, but this is likely due to the smaller range of values for BMI, compared to totChol, cigsPerDay, and age."
      ]
    },
    {
      "cell_type": "markdown",
      "metadata": {
        "id": "ABROSKqKIKFd"
      },
      "source": [
        "**Linear Regression**"
      ]
    },
    {
      "cell_type": "code",
      "execution_count": null,
      "metadata": {
        "id": "WT_ZI2UMCbOD",
        "tags": []
      },
      "outputs": [],
      "source": [
        "data['age'] = (data['age'])\n",
        "# linear model\n",
        "from sklearn.linear_model import LinearRegression\n",
        "\n",
        "vars = ['age']\n",
        "# other vars: 'totChol_impute','BMI_impute','cigsPerDay_impute'\n",
        "\n",
        "X = train_data.loc[:,vars]\n",
        "X.head()"
      ]
    },
    {
      "cell_type": "code",
      "execution_count": null,
      "metadata": {
        "id": "mbLLXAIq8snF"
      },
      "outputs": [],
      "source": [
        "train_data = train_data.replace([np.nan, -np.inf], 0)\n",
        "X = train_data.loc[:,vars]\n",
        "y = train_data['TenYearCHD']\n",
        "print(y)\n",
        "\n",
        "from sklearn.model_selection import train_test_split\n",
        "X_train, X_test, y_train, y_test = train_test_split(X, y, test_size=0.2, random_state=0)\n",
        "\n",
        "from sklearn.linear_model import LinearRegression\n",
        "regressor = LinearRegression()\n",
        "regressor.fit(X_train, y_train)\n",
        "\n",
        "LinearRegression()\n",
        "\n",
        "print(regressor.intercept_)\n",
        "print(regressor.coef_)\n",
        "print(regressor.score(X, y))\n",
        "\n",
        "y_pred = regressor.predict(X_test)\n",
        "\n",
        "plt.scatter(X_train, y_train,color='y')\n",
        "plt.plot(X_test, y_pred,color='k')\n",
        "\n",
        "plt.show()"
      ]
    },
    {
      "cell_type": "code",
      "execution_count": null,
      "metadata": {
        "id": "ZdIP1BVQAj1j"
      },
      "outputs": [],
      "source": [
        "train_data['age'] = (train_data['age'])\n",
        "# linear model\n",
        "from sklearn.linear_model import LinearRegression\n",
        "\n",
        "vars = ['totChol_impute']\n",
        "# other vars: 'totChol_impute','BMI_impute','cigsPerDay_impute'\n",
        "\n",
        "X = train_data.loc[:,vars]\n",
        "X.head()"
      ]
    },
    {
      "cell_type": "code",
      "execution_count": null,
      "metadata": {
        "id": "V5cy2s6bVzga"
      },
      "outputs": [],
      "source": [
        "train_data = train_data.replace([np.nan, -np.inf], 0)\n",
        "X = train_data.loc[:,vars]\n",
        "y = train_data['TenYearCHD']\n",
        "print(y)\n",
        "\n",
        "from sklearn.model_selection import train_test_split\n",
        "X_train, X_test, y_train, y_test = train_test_split(X, y, test_size=0.2, random_state=0)\n",
        "\n",
        "from sklearn.linear_model import LinearRegression\n",
        "regressor = LinearRegression()\n",
        "regressor.fit(X_train, y_train)\n",
        "\n",
        "LinearRegression()\n",
        "\n",
        "print(regressor.intercept_)\n",
        "print(regressor.coef_)\n",
        "print(regressor.score(X, y))\n",
        "\n",
        "y_pred = regressor.predict(X_test)\n",
        "\n",
        "plt.scatter(X_train, y_train,color='pink')\n",
        "plt.plot(X_test, y_pred,color='k')\n",
        "\n",
        "plt.show()"
      ]
    },
    {
      "cell_type": "code",
      "execution_count": null,
      "metadata": {
        "id": "Uf9MOKZXV7bB"
      },
      "outputs": [],
      "source": [
        "train_data['age'] = (train_data['age'])\n",
        "# linear model\n",
        "from sklearn.linear_model import LinearRegression\n",
        "\n",
        "vars = ['BMI_impute']\n",
        "# other vars: 'totChol_impute','BMI_impute','cigsPerDay_impute'\n",
        "\n",
        "X = train_data.loc[:,vars]\n",
        "X.head()"
      ]
    },
    {
      "cell_type": "code",
      "execution_count": null,
      "metadata": {
        "id": "dcGgu7YwV_l8"
      },
      "outputs": [],
      "source": [
        "train_data = train_data.replace([np.nan, -np.inf], 0)\n",
        "X = train_data.loc[:,vars]\n",
        "y = train_data['TenYearCHD']\n",
        "print(y)\n",
        "\n",
        "from sklearn.model_selection import train_test_split\n",
        "X_train, X_test, y_train, y_test = train_test_split(X, y, test_size=0.2, random_state=0)\n",
        "\n",
        "from sklearn.linear_model import LinearRegression\n",
        "regressor = LinearRegression()\n",
        "regressor.fit(X_train, y_train)\n",
        "\n",
        "LinearRegression()\n",
        "\n",
        "print(regressor.intercept_)\n",
        "print(regressor.coef_)\n",
        "print(regressor.score(X, y))\n",
        "\n",
        "y_pred = regressor.predict(X_test)\n",
        "\n",
        "plt.scatter(X_train, y_train,color='lavender')\n",
        "plt.plot(X_test, y_pred,color='k')\n",
        "\n",
        "plt.show()"
      ]
    },
    {
      "cell_type": "code",
      "execution_count": null,
      "metadata": {
        "id": "yKQhcAhPWjvZ"
      },
      "outputs": [],
      "source": [
        "train_data['age'] = (train_data['age'])\n",
        "# linear model\n",
        "from sklearn.linear_model import LinearRegression\n",
        "\n",
        "vars = ['cigsPerDay_impute']\n",
        "# other vars: 'totChol_impute','BMI_impute','cigsPerDay_impute'\n",
        "\n",
        "X = train_data.loc[:,vars]\n",
        "X.head()"
      ]
    },
    {
      "cell_type": "code",
      "execution_count": null,
      "metadata": {
        "id": "eRUYvS_sWtHK"
      },
      "outputs": [],
      "source": [
        "train_data = train_data.replace([np.nan, -np.inf], 0)\n",
        "X = train_data.loc[:,vars]\n",
        "y = train_data['TenYearCHD']\n",
        "print(y)\n",
        "\n",
        "from sklearn.model_selection import train_test_split\n",
        "X_train, X_test, y_train, y_test = train_test_split(X, y, test_size=0.2, random_state=0)\n",
        "\n",
        "from sklearn.linear_model import LinearRegression\n",
        "regressor = LinearRegression()\n",
        "regressor.fit(X_train, y_train)\n",
        "\n",
        "LinearRegression()\n",
        "\n",
        "print(regressor.intercept_)\n",
        "print(regressor.coef_)\n",
        "print(regressor.score(X, y))\n",
        "\n",
        "y_pred = regressor.predict(X_test)\n",
        "\n",
        "plt.scatter(X_train, y_train,color='turquoise')\n",
        "plt.plot(X_test, y_pred,color='k')\n",
        "\n",
        "plt.show()"
      ]
    },
    {
      "cell_type": "markdown",
      "metadata": {
        "id": "2JjxOnUTAQ6W"
      },
      "source": [
        "Even though most of our variables are numeric or able to be treated as such, linear models are not very suitabe. Perhaps a tree would be more fitting for predicting TenYearCHD, which is squarely a categorical variable. We ran tree regression and then kmc to compare gini scores."
      ]
    },
    {
      "cell_type": "markdown",
      "metadata": {
        "id": "i4h7QWRM7-eJ"
      },
      "source": [
        "**Classification Tree Regression:**"
      ]
    },
    {
      "cell_type": "code",
      "execution_count": null,
      "metadata": {
        "colab": {
          "base_uri": "https://localhost:8080/",
          "height": 1000
        },
        "id": "jp46tTez7-eJ",
        "outputId": "783c60f6-47e3-4c0c-a745-cc4172c3f7e9",
        "tags": []
      },
      "outputs": [
        {
          "data": {
            "image/png": "[encoded data removed]",
            "text/plain": [
              "<Figure size 2000x1000 with 1 Axes>"
            ]
          },
          "metadata": {},
          "output_type": "display_data"
        },
        {
          "name": "stdout",
          "output_type": "stream",
          "text": [
            "Tree rsq:  0.8526645768025078\n"
          ]
        }
      ],
      "source": [
        "from sklearn.tree import DecisionTreeClassifier # Import the tree classifier\n",
        "from sklearn.tree import plot_tree # Import the tree plotter\n",
        "\n",
        "# Process data:\n",
        "y_train = train_data['TenYearCHD']\n",
        "X_train = train_data.drop(['TenYearCHD'], axis=1)\n",
        "var_list = list(X_train.columns)\n",
        "\n",
        "# Fit decision tree:\n",
        "cart = DecisionTreeClassifier(max_depth=3,min_samples_leaf=100) # Create a classifier object, limit depth to 5 to prevent overbranching\n",
        "cart = cart.fit(X_train, y_train) # Fit the classifier\n",
        "\n",
        "# Visualize results:\n",
        "fig, ax = plt.subplots(figsize=(20, 10))\n",
        "plot_tree(cart,filled=True, ax=ax, fontsize = 12,feature_names=var_list)\n",
        "plt.show()\n",
        "\n",
        "# Compute R-squared error:\n",
        "X_test = test_data.drop(['TenYearCHD'], axis=1)\n",
        "y_test = test_data['TenYearCHD']\n",
        "y_hat = cart.predict(X_test)\n",
        "\n",
        "print('Tree rsq: ', cart.score(X_test, y_test)) # R-squared"
      ]
    },
    {
      "cell_type": "markdown",
      "metadata": {
        "id": "CN3cv8RB7-eJ"
      },
      "source": [
        "> A lot of the predictive power of the tree seems to come from the first 1-2 nodes, as the R-squared value with `max_depth = 1` is already greater than 0.8. The best predictors of CHD seem to be age, smoking habits, hypertension, blood pressure, and cholesterol. This aligns well with what we would expect, as these attributes are physical characteristics of the cardiovascular system (except smoking, although it heavily affects it). The Classification Tree was built using the training data set with all the glucose `nans` removed and many of ther other `nans` imputed. The tree was then used on the testing set `test_data` which yielded an R-squared of 0.85. For a decision tree with no utilization of random forests, this can be considered a good result. The initial train-test split is why this is a good result — any change in that split will likely lead to different accuracy."
      ]
    },
    {
      "cell_type": "markdown",
      "source": [
        "> In the future, it may be helpful to compare the gini scores in each node across different models such as knn or kmc. Computing the RMSE would also be an important indicator for accessing the model's usefulness."
      ],
      "metadata": {
        "id": "wgepU6ulIvG1"
      }
    },
    {
      "cell_type": "code",
      "source": [
        "from sklearn.cluster import KMeans\n",
        "def maxmin(x):\n",
        "    x = (x-min(x))/(max(x)-min(x))\n",
        "    return x\n",
        "var_list = list(X_train.columns)\n",
        "X = X.apply(maxmin)\n",
        "\n",
        "model = KMeans(n_clusters=3, max_iter=300, n_init = 10, random_state=0)\n",
        "\n",
        "model = model.fit(X)\n",
        "\n",
        "train_data['g_hat'] = model.predict(X)"
      ],
      "metadata": {
        "id": "xFhnbF55I33H"
      },
      "execution_count": null,
      "outputs": []
    },
    {
      "cell_type": "markdown",
      "metadata": {
        "id": "7Uvv7ZQu5ALH"
      },
      "source": [
        "**Conclusion**\n",
        "> In summary, the results from our decision tree seem to have produced the most significant results (producing an rsq of 0.85). Looking at the gini index for each node, most of the values produced are low (indicating high purity). Specifically, some of our values are close to zero which would indicate that there is little to no mixing of classes. Our linear models have some functionality; however, more variables could be incorporated to increase predictive power. On the other hand, this could become tricky because the variables we select may cause overfitting. It is important to consider the background information for our predictive model. Although some variables seem to be better predictors of the development of CHD, it is important to perform further extensive evaluation."
      ]
    },
    {
      "cell_type": "code",
      "execution_count": null,
      "metadata": {
        "id": "j4AuaQwnIKFn"
      },
      "outputs": [],
      "source": []
    }
  ],
  "metadata": {
    "colab": {
      "provenance": [],
      "include_colab_link": true
    },
    "kernelspec": {
      "display_name": "Python 3 (ipykernel)",
      "language": "python",
      "name": "python3"
    },
    "language_info": {
      "codemirror_mode": {
        "name": "ipython",
        "version": 3
      },
      "file_extension": ".py",
      "mimetype": "text/x-python",
      "name": "python",
      "nbconvert_exporter": "python",
      "pygments_lexer": "ipython3",
      "version": "3.11.5"
    }
  },
  "nbformat": 4,
  "nbformat_minor": 0
}