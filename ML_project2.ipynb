{
 "cells": [
  {
   "cell_type": "markdown",
   "metadata": {
    "colab_type": "text",
    "id": "view-in-github"
   },
   "source": [
    "<a href=\"https://colab.research.google.com/github/vnewsome/project_chd/blob/main/ML_project2.ipynb\" target=\"_parent\"><img src=\"https://colab.research.google.com/assets/colab-badge.svg\" alt=\"Open In Colab\"/></a>"
   ]
  },
  {
   "cell_type": "markdown",
   "metadata": {
    "id": "fHpVpXeZi6Ra"
   },
   "source": [
    "### DS3001: Machine Learning Project 2\n"
   ]
  },
  {
   "cell_type": "code",
   "execution_count": 32,
   "metadata": {
    "colab": {
     "base_uri": "https://localhost:8080/"
    },
    "id": "ICSYXQAXinI3",
    "outputId": "605d4133-891f-41c4-ce8f-ed532f82bc5c"
   },
   "outputs": [
    {
     "name": "stdout",
     "output_type": "stream",
     "text": [
      "fatal: destination path 'project_chd' already exists and is not an empty directory.\n"
     ]
    }
   ],
   "source": [
    "! git clone https://github.com/vnewsome/project_chd"
   ]
  },
  {
   "cell_type": "code",
   "execution_count": 1,
   "metadata": {
    "id": "EUL-PA0UjdyO",
    "tags": []
   },
   "outputs": [],
   "source": [
    "# load import statements\n",
    "import numpy as np\n",
    "import pandas as pd\n",
    "import matplotlib.pyplot as plt\n",
    "import seaborn as sns"
   ]
  },
  {
   "cell_type": "code",
   "execution_count": 2,
   "metadata": {
    "id": "miNmJ_tLjmIi",
    "tags": []
   },
   "outputs": [],
   "source": [
    "# NOTE: training data = data; test data = tdata\n",
    "# load the training data\n",
    "data = pd.read_csv(\"fhs_train.csv\", low_memory=False)"
   ]
  },
  {
   "cell_type": "code",
   "execution_count": 3,
   "metadata": {
    "colab": {
     "base_uri": "https://localhost:8080/",
     "height": 244
    },
    "id": "a2-RcPpSkHds",
    "outputId": "2f3fe987-5f5f-4641-b9c2-3ef90d8fd86d",
    "tags": []
   },
   "outputs": [
    {
     "data": {
      "text/html": [
       "<div>\n",
       "<style scoped>\n",
       "    .dataframe tbody tr th:only-of-type {\n",
       "        vertical-align: middle;\n",
       "    }\n",
       "\n",
       "    .dataframe tbody tr th {\n",
       "        vertical-align: top;\n",
       "    }\n",
       "\n",
       "    .dataframe thead th {\n",
       "        text-align: right;\n",
       "    }\n",
       "</style>\n",
       "<table border=\"1\" class=\"dataframe\">\n",
       "  <thead>\n",
       "    <tr style=\"text-align: right;\">\n",
       "      <th></th>\n",
       "      <th>Unnamed: 0</th>\n",
       "      <th>sex</th>\n",
       "      <th>age</th>\n",
       "      <th>education</th>\n",
       "      <th>currentSmoker</th>\n",
       "      <th>cigsPerDay</th>\n",
       "      <th>BPMeds</th>\n",
       "      <th>prevalentStroke</th>\n",
       "      <th>prevalentHyp</th>\n",
       "      <th>diabetes</th>\n",
       "      <th>totChol</th>\n",
       "      <th>sysBP</th>\n",
       "      <th>diaBP</th>\n",
       "      <th>BMI</th>\n",
       "      <th>heartRate</th>\n",
       "      <th>glucose</th>\n",
       "      <th>TenYearCHD</th>\n",
       "    </tr>\n",
       "  </thead>\n",
       "  <tbody>\n",
       "    <tr>\n",
       "      <th>0</th>\n",
       "      <td>1267</td>\n",
       "      <td>1</td>\n",
       "      <td>58</td>\n",
       "      <td>1.0</td>\n",
       "      <td>0</td>\n",
       "      <td>0.0</td>\n",
       "      <td>0.0</td>\n",
       "      <td>0</td>\n",
       "      <td>0</td>\n",
       "      <td>0</td>\n",
       "      <td>220.0</td>\n",
       "      <td>143.0</td>\n",
       "      <td>104.0</td>\n",
       "      <td>29.85</td>\n",
       "      <td>75</td>\n",
       "      <td>87.0</td>\n",
       "      <td>1</td>\n",
       "    </tr>\n",
       "    <tr>\n",
       "      <th>1</th>\n",
       "      <td>1209</td>\n",
       "      <td>0</td>\n",
       "      <td>40</td>\n",
       "      <td>1.0</td>\n",
       "      <td>1</td>\n",
       "      <td>15.0</td>\n",
       "      <td>0.0</td>\n",
       "      <td>0</td>\n",
       "      <td>0</td>\n",
       "      <td>0</td>\n",
       "      <td>199.0</td>\n",
       "      <td>122.0</td>\n",
       "      <td>82.0</td>\n",
       "      <td>22.16</td>\n",
       "      <td>85</td>\n",
       "      <td>77.0</td>\n",
       "      <td>0</td>\n",
       "    </tr>\n",
       "    <tr>\n",
       "      <th>2</th>\n",
       "      <td>2050</td>\n",
       "      <td>0</td>\n",
       "      <td>52</td>\n",
       "      <td>1.0</td>\n",
       "      <td>0</td>\n",
       "      <td>0.0</td>\n",
       "      <td>0.0</td>\n",
       "      <td>0</td>\n",
       "      <td>0</td>\n",
       "      <td>0</td>\n",
       "      <td>275.0</td>\n",
       "      <td>112.0</td>\n",
       "      <td>71.0</td>\n",
       "      <td>25.68</td>\n",
       "      <td>80</td>\n",
       "      <td>NaN</td>\n",
       "      <td>0</td>\n",
       "    </tr>\n",
       "    <tr>\n",
       "      <th>3</th>\n",
       "      <td>1183</td>\n",
       "      <td>1</td>\n",
       "      <td>38</td>\n",
       "      <td>2.0</td>\n",
       "      <td>1</td>\n",
       "      <td>43.0</td>\n",
       "      <td>0.0</td>\n",
       "      <td>0</td>\n",
       "      <td>1</td>\n",
       "      <td>0</td>\n",
       "      <td>170.0</td>\n",
       "      <td>130.0</td>\n",
       "      <td>94.0</td>\n",
       "      <td>23.90</td>\n",
       "      <td>110</td>\n",
       "      <td>75.0</td>\n",
       "      <td>0</td>\n",
       "    </tr>\n",
       "    <tr>\n",
       "      <th>4</th>\n",
       "      <td>3225</td>\n",
       "      <td>0</td>\n",
       "      <td>43</td>\n",
       "      <td>1.0</td>\n",
       "      <td>0</td>\n",
       "      <td>0.0</td>\n",
       "      <td>0.0</td>\n",
       "      <td>0</td>\n",
       "      <td>0</td>\n",
       "      <td>0</td>\n",
       "      <td>202.0</td>\n",
       "      <td>124.0</td>\n",
       "      <td>92.0</td>\n",
       "      <td>21.26</td>\n",
       "      <td>75</td>\n",
       "      <td>74.0</td>\n",
       "      <td>0</td>\n",
       "    </tr>\n",
       "  </tbody>\n",
       "</table>\n",
       "</div>"
      ],
      "text/plain": [
       "   Unnamed: 0  sex  age  education  currentSmoker  cigsPerDay  BPMeds  \\\n",
       "0        1267    1   58        1.0              0         0.0     0.0   \n",
       "1        1209    0   40        1.0              1        15.0     0.0   \n",
       "2        2050    0   52        1.0              0         0.0     0.0   \n",
       "3        1183    1   38        2.0              1        43.0     0.0   \n",
       "4        3225    0   43        1.0              0         0.0     0.0   \n",
       "\n",
       "   prevalentStroke  prevalentHyp  diabetes  totChol  sysBP  diaBP    BMI  \\\n",
       "0                0             0         0    220.0  143.0  104.0  29.85   \n",
       "1                0             0         0    199.0  122.0   82.0  22.16   \n",
       "2                0             0         0    275.0  112.0   71.0  25.68   \n",
       "3                0             1         0    170.0  130.0   94.0  23.90   \n",
       "4                0             0         0    202.0  124.0   92.0  21.26   \n",
       "\n",
       "   heartRate  glucose  TenYearCHD  \n",
       "0         75     87.0           1  \n",
       "1         85     77.0           0  \n",
       "2         80      NaN           0  \n",
       "3        110     75.0           0  \n",
       "4         75     74.0           0  "
      ]
     },
     "execution_count": 3,
     "metadata": {},
     "output_type": "execute_result"
    }
   ],
   "source": [
    "# examining training data\n",
    "data.head()"
   ]
  },
  {
   "cell_type": "code",
   "execution_count": 4,
   "metadata": {
    "colab": {
     "base_uri": "https://localhost:8080/"
    },
    "id": "SChQPqNKmHHJ",
    "outputId": "d2ef7ac1-09a0-4070-ff95-0ae570426602",
    "tags": []
   },
   "outputs": [
    {
     "name": "stdout",
     "output_type": "stream",
     "text": [
      "Unnamed: 0           int64\n",
      "sex                  int64\n",
      "age                  int64\n",
      "education          float64\n",
      "currentSmoker        int64\n",
      "cigsPerDay         float64\n",
      "BPMeds             float64\n",
      "prevalentStroke      int64\n",
      "prevalentHyp         int64\n",
      "diabetes             int64\n",
      "totChol            float64\n",
      "sysBP              float64\n",
      "diaBP              float64\n",
      "BMI                float64\n",
      "heartRate            int64\n",
      "glucose            float64\n",
      "TenYearCHD           int64\n",
      "dtype: object\n"
     ]
    },
    {
     "data": {
      "text/plain": [
       "array([ 87.,  77.,  nan,  75.,  74., 104.,  69.,  90.,  91.,  81.,  89.,\n",
       "        86.,  84.,  73.,  95.,  65., 103.,  76.,  85.,  92.,  72.,  62.,\n",
       "        93.,  68.,  67., 122., 102.,  79.,  66.,  83.,  78.,  64.,  63.,\n",
       "        58.,  71., 115.,  70.,  96.,  60.,  82.,  94.,  88., 167., 117.,\n",
       "       215.,  48., 108., 268., 100.,  80.,  99., 135.,  97.,  55., 274.,\n",
       "        40., 118.,  47.,  56., 112., 248., 107., 105.,  61., 260., 170.,\n",
       "       148., 120., 225.,  98.,  59., 332., 110., 206., 129.,  57., 114.,\n",
       "       101., 113., 111., 127., 121.,  45., 147.,  50., 244., 106., 394.,\n",
       "       173., 116., 137., 145., 123.,  44., 172.,  54., 142., 348., 119.,\n",
       "       320.,  53., 136., 210.,  43., 144., 292., 125., 294., 130., 131.,\n",
       "       255., 160.,  52., 207., 297., 216., 166., 109., 126., 235., 140.,\n",
       "       270., 250., 193., 256., 150., 202., 254., 370., 191., 186.])"
      ]
     },
     "execution_count": 4,
     "metadata": {},
     "output_type": "execute_result"
    }
   ],
   "source": [
    "# looking at each variable, cleaning if necessary\n",
    "\n",
    "column_dtypes = data.dtypes   # examining the data types\n",
    "print(column_dtypes)\n",
    "\n",
    "# variables in the TRAINING data that contain nans: education, cigsPerDay, BPMeds, totChol, glucose\n",
    "glucose = data[\"glucose\"]\n",
    "glucose.unique()"
   ]
  },
  {
   "cell_type": "code",
   "execution_count": 5,
   "metadata": {
    "colab": {
     "base_uri": "https://localhost:8080/"
    },
    "id": "KVYYf5s1-Ed1",
    "outputId": "673f62ba-3a77-4e40-a7fe-93ce457dee8e",
    "tags": []
   },
   "outputs": [
    {
     "name": "stdout",
     "output_type": "stream",
     "text": [
      "Unnamed: 0           0\n",
      "sex                  0\n",
      "age                  0\n",
      "education           85\n",
      "currentSmoker        0\n",
      "cigsPerDay          24\n",
      "BPMeds              37\n",
      "prevalentStroke      0\n",
      "prevalentHyp         0\n",
      "diabetes             0\n",
      "totChol             39\n",
      "sysBP                0\n",
      "diaBP                0\n",
      "BMI                 15\n",
      "heartRate            0\n",
      "glucose            285\n",
      "TenYearCHD           0\n",
      "dtype: int64\n",
      "Unnamed: 0         3180\n",
      "sex                3180\n",
      "age                3180\n",
      "education          3095\n",
      "currentSmoker      3180\n",
      "cigsPerDay         3156\n",
      "BPMeds             3143\n",
      "prevalentStroke    3180\n",
      "prevalentHyp       3180\n",
      "diabetes           3180\n",
      "totChol            3141\n",
      "sysBP              3180\n",
      "diaBP              3180\n",
      "BMI                3165\n",
      "heartRate          3180\n",
      "glucose            2895\n",
      "TenYearCHD         3180\n",
      "dtype: int64\n"
     ]
    }
   ],
   "source": [
    "# determining how many NaNs are in the data\n",
    "nan_columns = data.isnull().sum()\n",
    "print(nan_columns)\n",
    "total_columns = data.count()\n",
    "print(total_columns)\n",
    "\n",
    "# glucose is the only column with a high percentage of nans (~9%)\n",
    "# NOTE: Nan values are left in for now** they will be removed if there is a problem later on"
   ]
  },
  {
   "cell_type": "code",
   "execution_count": 6,
   "metadata": {
    "colab": {
     "base_uri": "https://localhost:8080/",
     "height": 175
    },
    "id": "7pGrNyfIkbgA",
    "outputId": "e7e9fa49-43a1-4eb4-895f-8ef907364087",
    "tags": []
   },
   "outputs": [
    {
     "data": {
      "text/html": [
       "<div>\n",
       "<style scoped>\n",
       "    .dataframe tbody tr th:only-of-type {\n",
       "        vertical-align: middle;\n",
       "    }\n",
       "\n",
       "    .dataframe tbody tr th {\n",
       "        vertical-align: top;\n",
       "    }\n",
       "\n",
       "    .dataframe thead tr th {\n",
       "        text-align: left;\n",
       "    }\n",
       "\n",
       "    .dataframe thead tr:last-of-type th {\n",
       "        text-align: right;\n",
       "    }\n",
       "</style>\n",
       "<table border=\"1\" class=\"dataframe\">\n",
       "  <thead>\n",
       "    <tr>\n",
       "      <th></th>\n",
       "      <th colspan=\"8\" halign=\"left\">totChol</th>\n",
       "    </tr>\n",
       "    <tr>\n",
       "      <th></th>\n",
       "      <th>count</th>\n",
       "      <th>mean</th>\n",
       "      <th>std</th>\n",
       "      <th>min</th>\n",
       "      <th>25%</th>\n",
       "      <th>50%</th>\n",
       "      <th>75%</th>\n",
       "      <th>max</th>\n",
       "    </tr>\n",
       "    <tr>\n",
       "      <th>TenYearCHD</th>\n",
       "      <th></th>\n",
       "      <th></th>\n",
       "      <th></th>\n",
       "      <th></th>\n",
       "      <th></th>\n",
       "      <th></th>\n",
       "      <th></th>\n",
       "      <th></th>\n",
       "    </tr>\n",
       "  </thead>\n",
       "  <tbody>\n",
       "    <tr>\n",
       "      <th>0</th>\n",
       "      <td>2660.0</td>\n",
       "      <td>234.699624</td>\n",
       "      <td>43.708817</td>\n",
       "      <td>113.0</td>\n",
       "      <td>204.0</td>\n",
       "      <td>232.0</td>\n",
       "      <td>260.0</td>\n",
       "      <td>696.0</td>\n",
       "    </tr>\n",
       "    <tr>\n",
       "      <th>1</th>\n",
       "      <td>481.0</td>\n",
       "      <td>247.114345</td>\n",
       "      <td>49.429131</td>\n",
       "      <td>107.0</td>\n",
       "      <td>214.0</td>\n",
       "      <td>243.0</td>\n",
       "      <td>273.0</td>\n",
       "      <td>600.0</td>\n",
       "    </tr>\n",
       "  </tbody>\n",
       "</table>\n",
       "</div>"
      ],
      "text/plain": [
       "           totChol                                                          \n",
       "             count        mean        std    min    25%    50%    75%    max\n",
       "TenYearCHD                                                                  \n",
       "0           2660.0  234.699624  43.708817  113.0  204.0  232.0  260.0  696.0\n",
       "1            481.0  247.114345  49.429131  107.0  214.0  243.0  273.0  600.0"
      ]
     },
     "execution_count": 6,
     "metadata": {},
     "output_type": "execute_result"
    }
   ],
   "source": [
    "# examining relationships between columns before building a model to identify patterns/correlations\n",
    "\n",
    "# sex variable: 1 = male\n",
    "# TenYearCHD: assuming 1 indicates an at risk individual (note: this was not noted in the data dictionary)\n",
    "data.loc[:,['totChol','TenYearCHD'] ].groupby('TenYearCHD').describe()     # totChol and 10-year risk of CHD have a higher mean when compared to no risk"
   ]
  },
  {
   "cell_type": "code",
   "execution_count": 7,
   "metadata": {
    "colab": {
     "base_uri": "https://localhost:8080/",
     "height": 175
    },
    "id": "Lc0gdM5zEqt_",
    "outputId": "f90b497e-9e37-43d9-8978-07e8b22fb56e",
    "tags": []
   },
   "outputs": [
    {
     "data": {
      "text/html": [
       "<div>\n",
       "<style scoped>\n",
       "    .dataframe tbody tr th:only-of-type {\n",
       "        vertical-align: middle;\n",
       "    }\n",
       "\n",
       "    .dataframe tbody tr th {\n",
       "        vertical-align: top;\n",
       "    }\n",
       "\n",
       "    .dataframe thead tr th {\n",
       "        text-align: left;\n",
       "    }\n",
       "\n",
       "    .dataframe thead tr:last-of-type th {\n",
       "        text-align: right;\n",
       "    }\n",
       "</style>\n",
       "<table border=\"1\" class=\"dataframe\">\n",
       "  <thead>\n",
       "    <tr>\n",
       "      <th></th>\n",
       "      <th colspan=\"8\" halign=\"left\">BMI</th>\n",
       "    </tr>\n",
       "    <tr>\n",
       "      <th></th>\n",
       "      <th>count</th>\n",
       "      <th>mean</th>\n",
       "      <th>std</th>\n",
       "      <th>min</th>\n",
       "      <th>25%</th>\n",
       "      <th>50%</th>\n",
       "      <th>75%</th>\n",
       "      <th>max</th>\n",
       "    </tr>\n",
       "    <tr>\n",
       "      <th>TenYearCHD</th>\n",
       "      <th></th>\n",
       "      <th></th>\n",
       "      <th></th>\n",
       "      <th></th>\n",
       "      <th></th>\n",
       "      <th></th>\n",
       "      <th></th>\n",
       "      <th></th>\n",
       "    </tr>\n",
       "  </thead>\n",
       "  <tbody>\n",
       "    <tr>\n",
       "      <th>0</th>\n",
       "      <td>2686.0</td>\n",
       "      <td>25.761102</td>\n",
       "      <td>4.029037</td>\n",
       "      <td>15.54</td>\n",
       "      <td>23.08</td>\n",
       "      <td>25.35</td>\n",
       "      <td>27.96</td>\n",
       "      <td>51.28</td>\n",
       "    </tr>\n",
       "    <tr>\n",
       "      <th>1</th>\n",
       "      <td>479.0</td>\n",
       "      <td>26.600355</td>\n",
       "      <td>4.598560</td>\n",
       "      <td>16.71</td>\n",
       "      <td>23.68</td>\n",
       "      <td>26.20</td>\n",
       "      <td>28.92</td>\n",
       "      <td>56.80</td>\n",
       "    </tr>\n",
       "  </tbody>\n",
       "</table>\n",
       "</div>"
      ],
      "text/plain": [
       "               BMI                                                        \n",
       "             count       mean       std    min    25%    50%    75%    max\n",
       "TenYearCHD                                                                \n",
       "0           2686.0  25.761102  4.029037  15.54  23.08  25.35  27.96  51.28\n",
       "1            479.0  26.600355  4.598560  16.71  23.68  26.20  28.92  56.80"
      ]
     },
     "execution_count": 7,
     "metadata": {},
     "output_type": "execute_result"
    }
   ],
   "source": [
    "data.loc[:,['BMI','TenYearCHD'] ].groupby('TenYearCHD').describe()"
   ]
  },
  {
   "cell_type": "code",
   "execution_count": 8,
   "metadata": {
    "colab": {
     "base_uri": "https://localhost:8080/",
     "height": 175
    },
    "id": "xnXUH1dNE037",
    "outputId": "e426241b-647e-4d99-84de-34f3bfbddb0d",
    "tags": []
   },
   "outputs": [
    {
     "data": {
      "text/html": [
       "<div>\n",
       "<style scoped>\n",
       "    .dataframe tbody tr th:only-of-type {\n",
       "        vertical-align: middle;\n",
       "    }\n",
       "\n",
       "    .dataframe tbody tr th {\n",
       "        vertical-align: top;\n",
       "    }\n",
       "\n",
       "    .dataframe thead tr th {\n",
       "        text-align: left;\n",
       "    }\n",
       "\n",
       "    .dataframe thead tr:last-of-type th {\n",
       "        text-align: right;\n",
       "    }\n",
       "</style>\n",
       "<table border=\"1\" class=\"dataframe\">\n",
       "  <thead>\n",
       "    <tr>\n",
       "      <th></th>\n",
       "      <th colspan=\"8\" halign=\"left\">cigsPerDay</th>\n",
       "    </tr>\n",
       "    <tr>\n",
       "      <th></th>\n",
       "      <th>count</th>\n",
       "      <th>mean</th>\n",
       "      <th>std</th>\n",
       "      <th>min</th>\n",
       "      <th>25%</th>\n",
       "      <th>50%</th>\n",
       "      <th>75%</th>\n",
       "      <th>max</th>\n",
       "    </tr>\n",
       "    <tr>\n",
       "      <th>TenYearCHD</th>\n",
       "      <th></th>\n",
       "      <th></th>\n",
       "      <th></th>\n",
       "      <th></th>\n",
       "      <th></th>\n",
       "      <th></th>\n",
       "      <th></th>\n",
       "      <th></th>\n",
       "    </tr>\n",
       "  </thead>\n",
       "  <tbody>\n",
       "    <tr>\n",
       "      <th>0</th>\n",
       "      <td>2671.0</td>\n",
       "      <td>8.726320</td>\n",
       "      <td>11.789079</td>\n",
       "      <td>0.0</td>\n",
       "      <td>0.0</td>\n",
       "      <td>0.0</td>\n",
       "      <td>20.0</td>\n",
       "      <td>70.0</td>\n",
       "    </tr>\n",
       "    <tr>\n",
       "      <th>1</th>\n",
       "      <td>485.0</td>\n",
       "      <td>10.315464</td>\n",
       "      <td>13.114147</td>\n",
       "      <td>0.0</td>\n",
       "      <td>0.0</td>\n",
       "      <td>0.0</td>\n",
       "      <td>20.0</td>\n",
       "      <td>60.0</td>\n",
       "    </tr>\n",
       "  </tbody>\n",
       "</table>\n",
       "</div>"
      ],
      "text/plain": [
       "           cigsPerDay                                                 \n",
       "                count       mean        std  min  25%  50%   75%   max\n",
       "TenYearCHD                                                            \n",
       "0              2671.0   8.726320  11.789079  0.0  0.0  0.0  20.0  70.0\n",
       "1               485.0  10.315464  13.114147  0.0  0.0  0.0  20.0  60.0"
      ]
     },
     "execution_count": 8,
     "metadata": {},
     "output_type": "execute_result"
    }
   ],
   "source": [
    "data.loc[:,['cigsPerDay','TenYearCHD'] ].groupby('TenYearCHD').describe()"
   ]
  },
  {
   "cell_type": "code",
   "execution_count": 9,
   "metadata": {
    "colab": {
     "base_uri": "https://localhost:8080/",
     "height": 175
    },
    "id": "991OiYh3Fabo",
    "outputId": "bb8b5435-1734-4da0-e216-3043c016677c",
    "tags": []
   },
   "outputs": [
    {
     "data": {
      "text/html": [
       "<div>\n",
       "<style scoped>\n",
       "    .dataframe tbody tr th:only-of-type {\n",
       "        vertical-align: middle;\n",
       "    }\n",
       "\n",
       "    .dataframe tbody tr th {\n",
       "        vertical-align: top;\n",
       "    }\n",
       "\n",
       "    .dataframe thead tr th {\n",
       "        text-align: left;\n",
       "    }\n",
       "\n",
       "    .dataframe thead tr:last-of-type th {\n",
       "        text-align: right;\n",
       "    }\n",
       "</style>\n",
       "<table border=\"1\" class=\"dataframe\">\n",
       "  <thead>\n",
       "    <tr>\n",
       "      <th></th>\n",
       "      <th colspan=\"8\" halign=\"left\">age</th>\n",
       "    </tr>\n",
       "    <tr>\n",
       "      <th></th>\n",
       "      <th>count</th>\n",
       "      <th>mean</th>\n",
       "      <th>std</th>\n",
       "      <th>min</th>\n",
       "      <th>25%</th>\n",
       "      <th>50%</th>\n",
       "      <th>75%</th>\n",
       "      <th>max</th>\n",
       "    </tr>\n",
       "    <tr>\n",
       "      <th>TenYearCHD</th>\n",
       "      <th></th>\n",
       "      <th></th>\n",
       "      <th></th>\n",
       "      <th></th>\n",
       "      <th></th>\n",
       "      <th></th>\n",
       "      <th></th>\n",
       "      <th></th>\n",
       "    </tr>\n",
       "  </thead>\n",
       "  <tbody>\n",
       "    <tr>\n",
       "      <th>0</th>\n",
       "      <td>2693.0</td>\n",
       "      <td>48.813219</td>\n",
       "      <td>8.405781</td>\n",
       "      <td>32.0</td>\n",
       "      <td>42.0</td>\n",
       "      <td>48.0</td>\n",
       "      <td>55.0</td>\n",
       "      <td>70.0</td>\n",
       "    </tr>\n",
       "    <tr>\n",
       "      <th>1</th>\n",
       "      <td>487.0</td>\n",
       "      <td>54.172485</td>\n",
       "      <td>7.954541</td>\n",
       "      <td>35.0</td>\n",
       "      <td>48.0</td>\n",
       "      <td>55.0</td>\n",
       "      <td>61.0</td>\n",
       "      <td>70.0</td>\n",
       "    </tr>\n",
       "  </tbody>\n",
       "</table>\n",
       "</div>"
      ],
      "text/plain": [
       "               age                                                   \n",
       "             count       mean       std   min   25%   50%   75%   max\n",
       "TenYearCHD                                                           \n",
       "0           2693.0  48.813219  8.405781  32.0  42.0  48.0  55.0  70.0\n",
       "1            487.0  54.172485  7.954541  35.0  48.0  55.0  61.0  70.0"
      ]
     },
     "execution_count": 9,
     "metadata": {},
     "output_type": "execute_result"
    }
   ],
   "source": [
    "data.loc[:,['age','TenYearCHD'] ].groupby('TenYearCHD').describe()     # possible relationship bw age and ten year CHD risk"
   ]
  },
  {
   "cell_type": "code",
   "execution_count": 10,
   "metadata": {
    "id": "FSK5TQEpu7A-",
    "tags": []
   },
   "outputs": [],
   "source": [
    "# load the testing data\n",
    "tdata = pd.read_csv(\"fhs_test.csv\", low_memory=False)"
   ]
  },
  {
   "cell_type": "code",
   "execution_count": 11,
   "metadata": {
    "colab": {
     "base_uri": "https://localhost:8080/",
     "height": 244
    },
    "id": "4Ik2B9tevGG6",
    "outputId": "92ce0f3d-e005-46fa-89fc-2d6df86e80d3",
    "tags": []
   },
   "outputs": [
    {
     "data": {
      "text/html": [
       "<div>\n",
       "<style scoped>\n",
       "    .dataframe tbody tr th:only-of-type {\n",
       "        vertical-align: middle;\n",
       "    }\n",
       "\n",
       "    .dataframe tbody tr th {\n",
       "        vertical-align: top;\n",
       "    }\n",
       "\n",
       "    .dataframe thead th {\n",
       "        text-align: right;\n",
       "    }\n",
       "</style>\n",
       "<table border=\"1\" class=\"dataframe\">\n",
       "  <thead>\n",
       "    <tr style=\"text-align: right;\">\n",
       "      <th></th>\n",
       "      <th>Unnamed: 0</th>\n",
       "      <th>sex</th>\n",
       "      <th>age</th>\n",
       "      <th>education</th>\n",
       "      <th>currentSmoker</th>\n",
       "      <th>cigsPerDay</th>\n",
       "      <th>BPMeds</th>\n",
       "      <th>prevalentStroke</th>\n",
       "      <th>prevalentHyp</th>\n",
       "      <th>diabetes</th>\n",
       "      <th>totChol</th>\n",
       "      <th>sysBP</th>\n",
       "      <th>diaBP</th>\n",
       "      <th>BMI</th>\n",
       "      <th>heartRate</th>\n",
       "      <th>glucose</th>\n",
       "      <th>TenYearCHD</th>\n",
       "    </tr>\n",
       "  </thead>\n",
       "  <tbody>\n",
       "    <tr>\n",
       "      <th>0</th>\n",
       "      <td>674</td>\n",
       "      <td>0</td>\n",
       "      <td>58</td>\n",
       "      <td>1.0</td>\n",
       "      <td>1</td>\n",
       "      <td>20.0</td>\n",
       "      <td>0.0</td>\n",
       "      <td>0</td>\n",
       "      <td>0</td>\n",
       "      <td>0</td>\n",
       "      <td>NaN</td>\n",
       "      <td>126.0</td>\n",
       "      <td>77.0</td>\n",
       "      <td>30.08</td>\n",
       "      <td>78.0</td>\n",
       "      <td>NaN</td>\n",
       "      <td>0</td>\n",
       "    </tr>\n",
       "    <tr>\n",
       "      <th>1</th>\n",
       "      <td>4070</td>\n",
       "      <td>0</td>\n",
       "      <td>51</td>\n",
       "      <td>3.0</td>\n",
       "      <td>0</td>\n",
       "      <td>0.0</td>\n",
       "      <td>0.0</td>\n",
       "      <td>0</td>\n",
       "      <td>0</td>\n",
       "      <td>0</td>\n",
       "      <td>264.0</td>\n",
       "      <td>135.0</td>\n",
       "      <td>83.0</td>\n",
       "      <td>26.68</td>\n",
       "      <td>60.0</td>\n",
       "      <td>74.0</td>\n",
       "      <td>0</td>\n",
       "    </tr>\n",
       "    <tr>\n",
       "      <th>2</th>\n",
       "      <td>3150</td>\n",
       "      <td>0</td>\n",
       "      <td>44</td>\n",
       "      <td>2.0</td>\n",
       "      <td>1</td>\n",
       "      <td>9.0</td>\n",
       "      <td>0.0</td>\n",
       "      <td>0</td>\n",
       "      <td>1</td>\n",
       "      <td>0</td>\n",
       "      <td>NaN</td>\n",
       "      <td>147.5</td>\n",
       "      <td>96.0</td>\n",
       "      <td>30.57</td>\n",
       "      <td>78.0</td>\n",
       "      <td>NaN</td>\n",
       "      <td>1</td>\n",
       "    </tr>\n",
       "    <tr>\n",
       "      <th>3</th>\n",
       "      <td>1695</td>\n",
       "      <td>0</td>\n",
       "      <td>40</td>\n",
       "      <td>2.0</td>\n",
       "      <td>1</td>\n",
       "      <td>20.0</td>\n",
       "      <td>0.0</td>\n",
       "      <td>0</td>\n",
       "      <td>0</td>\n",
       "      <td>0</td>\n",
       "      <td>271.0</td>\n",
       "      <td>138.5</td>\n",
       "      <td>88.0</td>\n",
       "      <td>27.24</td>\n",
       "      <td>80.0</td>\n",
       "      <td>NaN</td>\n",
       "      <td>1</td>\n",
       "    </tr>\n",
       "    <tr>\n",
       "      <th>4</th>\n",
       "      <td>2692</td>\n",
       "      <td>1</td>\n",
       "      <td>58</td>\n",
       "      <td>2.0</td>\n",
       "      <td>1</td>\n",
       "      <td>20.0</td>\n",
       "      <td>0.0</td>\n",
       "      <td>0</td>\n",
       "      <td>0</td>\n",
       "      <td>0</td>\n",
       "      <td>207.0</td>\n",
       "      <td>110.0</td>\n",
       "      <td>80.0</td>\n",
       "      <td>23.55</td>\n",
       "      <td>78.0</td>\n",
       "      <td>78.0</td>\n",
       "      <td>0</td>\n",
       "    </tr>\n",
       "  </tbody>\n",
       "</table>\n",
       "</div>"
      ],
      "text/plain": [
       "   Unnamed: 0  sex  age  education  currentSmoker  cigsPerDay  BPMeds  \\\n",
       "0         674    0   58        1.0              1        20.0     0.0   \n",
       "1        4070    0   51        3.0              0         0.0     0.0   \n",
       "2        3150    0   44        2.0              1         9.0     0.0   \n",
       "3        1695    0   40        2.0              1        20.0     0.0   \n",
       "4        2692    1   58        2.0              1        20.0     0.0   \n",
       "\n",
       "   prevalentStroke  prevalentHyp  diabetes  totChol  sysBP  diaBP    BMI  \\\n",
       "0                0             0         0      NaN  126.0   77.0  30.08   \n",
       "1                0             0         0    264.0  135.0   83.0  26.68   \n",
       "2                0             1         0      NaN  147.5   96.0  30.57   \n",
       "3                0             0         0    271.0  138.5   88.0  27.24   \n",
       "4                0             0         0    207.0  110.0   80.0  23.55   \n",
       "\n",
       "   heartRate  glucose  TenYearCHD  \n",
       "0       78.0      NaN           0  \n",
       "1       60.0     74.0           0  \n",
       "2       78.0      NaN           1  \n",
       "3       80.0      NaN           1  \n",
       "4       78.0     78.0           0  "
      ]
     },
     "execution_count": 11,
     "metadata": {},
     "output_type": "execute_result"
    }
   ],
   "source": [
    "# examining and cleaning the test data if necessary\n",
    "tdata.head()"
   ]
  },
  {
   "cell_type": "code",
   "execution_count": 12,
   "metadata": {
    "colab": {
     "base_uri": "https://localhost:8080/"
    },
    "id": "JemWlEmZv03H",
    "outputId": "ac273847-f905-4f94-805d-4b788d955df0",
    "tags": []
   },
   "outputs": [
    {
     "name": "stdout",
     "output_type": "stream",
     "text": [
      "Unnamed: 0           int64\n",
      "sex                  int64\n",
      "age                  int64\n",
      "education          float64\n",
      "currentSmoker        int64\n",
      "cigsPerDay         float64\n",
      "BPMeds             float64\n",
      "prevalentStroke      int64\n",
      "prevalentHyp         int64\n",
      "diabetes             int64\n",
      "totChol            float64\n",
      "sysBP              float64\n",
      "diaBP              float64\n",
      "BMI                float64\n",
      "heartRate          float64\n",
      "glucose            float64\n",
      "TenYearCHD           int64\n",
      "dtype: object\n"
     ]
    }
   ],
   "source": [
    "column_dtypes = tdata.dtypes   # examining the data types\n",
    "print(column_dtypes)"
   ]
  },
  {
   "cell_type": "code",
   "execution_count": 13,
   "metadata": {
    "colab": {
     "base_uri": "https://localhost:8080/"
    },
    "id": "MwpuDO0Sw3ey",
    "outputId": "c9472ff1-e2da-4c18-f0bf-fcb379a97144",
    "tags": []
   },
   "outputs": [
    {
     "name": "stdout",
     "output_type": "stream",
     "text": [
      "float64\n"
     ]
    }
   ],
   "source": [
    "# looks like heartRate is a float in the test data but an int in the training data\n",
    "# we'll go ahead and make sure they match up by changing the data type in the training data\n",
    "data['heartRate'] = data['heartRate'].astype(float)\n",
    "print(data['heartRate'].dtypes)"
   ]
  },
  {
   "cell_type": "code",
   "execution_count": 14,
   "metadata": {
    "colab": {
     "base_uri": "https://localhost:8080/"
    },
    "id": "SW1enpxYw5_b",
    "outputId": "5b6b1692-393e-4b26-d11b-ea22da696e0e",
    "tags": []
   },
   "outputs": [
    {
     "name": "stdout",
     "output_type": "stream",
     "text": [
      "Unnamed: 0           0\n",
      "sex                  0\n",
      "age                  0\n",
      "education           20\n",
      "currentSmoker        0\n",
      "cigsPerDay           5\n",
      "BPMeds              16\n",
      "prevalentStroke      0\n",
      "prevalentHyp         0\n",
      "diabetes             0\n",
      "totChol             11\n",
      "sysBP                0\n",
      "diaBP                0\n",
      "BMI                  4\n",
      "heartRate            1\n",
      "glucose            103\n",
      "TenYearCHD           0\n",
      "dtype: int64\n",
      "Unnamed: 0         1060\n",
      "sex                1060\n",
      "age                1060\n",
      "education          1040\n",
      "currentSmoker      1060\n",
      "cigsPerDay         1055\n",
      "BPMeds             1044\n",
      "prevalentStroke    1060\n",
      "prevalentHyp       1060\n",
      "diabetes           1060\n",
      "totChol            1049\n",
      "sysBP              1060\n",
      "diaBP              1060\n",
      "BMI                1056\n",
      "heartRate          1059\n",
      "glucose             957\n",
      "TenYearCHD         1060\n",
      "dtype: int64\n"
     ]
    }
   ],
   "source": [
    "# variables in the TEST data that contain nans: education, cigsPerDay, BPMeds, totChol, BMI, heartRate, glucose\n",
    "\n",
    "# determining how many NaNs are in the data\n",
    "nan_columns = tdata.isnull().sum()\n",
    "print(nan_columns)\n",
    "total_columns = tdata.count()\n",
    "print(total_columns)\n",
    "\n",
    "# glucose has a higher proportion of Nans in the testing data ~10%"
   ]
  },
  {
   "cell_type": "markdown",
   "metadata": {
    "id": "KzeZOM1Uf3AT"
   },
   "source": [
    "After examining the training data, no variables were observed to contain more than 10% nans. totChol, BMI, cigsPerDay, and age all could be interesting variables to model with, due to the correlation between increased values for these variables among individuals who developed CHD in ten years. This does not exclude other variables, but all of this subset could be helpful in predicting if an individual is likely to CHD. Linear models with these variables could likely provide useful prediction, especially if using variables which show a stronger grouping towards individuals who not develop CHD and individuals who do develop CHD. Note that BMI does not show as much variation between groups, but this is likely due to the smaller range of values for BMI, compared to totChol, cigsPerDay, and age."
   ]
  },
  {
   "cell_type": "code",
   "execution_count": 15,
   "metadata": {
    "colab": {
     "base_uri": "https://localhost:8080/",
     "height": 673
    },
    "id": "ATTXOtHiR-vJ",
    "outputId": "25137d97-861a-438b-858c-46b16c569f17",
    "tags": []
   },
   "outputs": [
    {
     "name": "stdout",
     "output_type": "stream",
     "text": [
      "After coercion: \n",
      " count    3141.000000\n",
      "mean      236.600764\n",
      "std        44.847411\n",
      "min       107.000000\n",
      "25%       205.000000\n",
      "50%       233.000000\n",
      "75%       262.000000\n",
      "max       696.000000\n",
      "Name: totChol, dtype: float64 \n",
      "\n",
      "Total Missings: \n",
      " 39 \n",
      "\n"
     ]
    },
    {
     "data": {
      "image/png": "[encoded data removed]",
      "text/plain": [
       "<Figure size 640x480 with 1 Axes>"
      ]
     },
     "metadata": {},
     "output_type": "display_data"
    }
   ],
   "source": [
    "# NOTE: Nan values are left in for now** they will be removed if there is a problem later on\n",
    "# There was a problem later on\n",
    "data['totChol'].unique()\n",
    "data['totChol_nan'] = data['totChol'].isnull()\n",
    "\n",
    "print('After coercion: \\n', data['totChol'].describe(),'\\n')\n",
    "data['totChol'].hist(bins = 50)\n",
    "print('Total Missings: \\n', sum(data['totChol_nan']),'\\n')"
   ]
  },
  {
   "cell_type": "code",
   "execution_count": 16,
   "metadata": {
    "colab": {
     "base_uri": "https://localhost:8080/",
     "height": 673
    },
    "id": "koI2u5ww5aVc",
    "outputId": "8304b924-c719-46da-fa2d-9714fb11ba6c",
    "tags": []
   },
   "outputs": [
    {
     "name": "stdout",
     "output_type": "stream",
     "text": [
      "After coercion: \n",
      " count    3165.000000\n",
      "mean       25.888117\n",
      "std         4.130475\n",
      "min        15.540000\n",
      "25%        23.100000\n",
      "50%        25.490000\n",
      "75%        28.140000\n",
      "max        56.800000\n",
      "Name: BMI, dtype: float64 \n",
      "\n",
      "Total Missings: \n",
      " 15 \n",
      "\n"
     ]
    },
    {
     "data": {
      "image/png": "[encoded data removed]",
      "text/plain": [
       "<Figure size 640x480 with 1 Axes>"
      ]
     },
     "metadata": {},
     "output_type": "display_data"
    }
   ],
   "source": [
    "data['BMI'].unique()\n",
    "data['BMI_nan'] = data['BMI'].isnull()\n",
    "\n",
    "print('After coercion: \\n', data['BMI'].describe(),'\\n')\n",
    "data['BMI'].hist(bins = 50)\n",
    "print('Total Missings: \\n', sum(data['BMI_nan']),'\\n')"
   ]
  },
  {
   "cell_type": "code",
   "execution_count": 17,
   "metadata": {
    "colab": {
     "base_uri": "https://localhost:8080/",
     "height": 673
    },
    "id": "i8AIGojx5a7U",
    "outputId": "6c244ecc-76fe-4242-94b9-4e8c16763eca",
    "tags": []
   },
   "outputs": [
    {
     "name": "stdout",
     "output_type": "stream",
     "text": [
      "After coercion: \n",
      " count    3156.000000\n",
      "mean        8.970532\n",
      "std        12.013704\n",
      "min         0.000000\n",
      "25%         0.000000\n",
      "50%         0.000000\n",
      "75%        20.000000\n",
      "max        70.000000\n",
      "Name: cigsPerDay, dtype: float64 \n",
      "\n",
      "Total Missings: \n",
      " 24 \n",
      "\n"
     ]
    },
    {
     "data": {
      "image/png": "[encoded data removed]",
      "text/plain": [
       "<Figure size 640x480 with 1 Axes>"
      ]
     },
     "metadata": {},
     "output_type": "display_data"
    }
   ],
   "source": [
    "data['cigsPerDay'].unique()\n",
    "data['cigsPerDay_nan'] = data['cigsPerDay'].isnull()\n",
    "\n",
    "print('After coercion: \\n', data['cigsPerDay'].describe(),'\\n')\n",
    "data['cigsPerDay'].hist(bins = 50)\n",
    "print('Total Missings: \\n', sum(data['cigsPerDay_nan']),'\\n')"
   ]
  },
  {
   "cell_type": "code",
   "execution_count": 18,
   "metadata": {
    "id": "p34S6OX-6INi",
    "tags": []
   },
   "outputs": [],
   "source": [
    "# Relatively few missings, so imputed values\n",
    "data['totChol_impute'] = data['totChol'].fillna(data['totChol'].mean)\n",
    "data['BMI_impute'] = data['BMI'].fillna(data['BMI'].mean)\n",
    "data['cigsPerDay_impute'] = data['cigsPerDay'].fillna(data['cigsPerDay'].median)\n",
    "data['education'] = data['education'].dropna()\n",
    "\n",
    "data['totChol_impute'] = pd.to_numeric(data['totChol_impute'], errors='coerce')\n",
    "data['BMI_impute'] = pd.to_numeric(data['BMI_impute'], errors='coerce')\n",
    "data['cigsPerDay_impute'] = pd.to_numeric(data['cigsPerDay_impute'], errors='coerce')\n",
    "data['education'] = pd.to_numeric(data['education'], errors='coerce')"
   ]
  },
  {
   "cell_type": "code",
   "execution_count": 19,
   "metadata": {
    "id": "Mb-vjSFFDk5z",
    "tags": []
   },
   "outputs": [],
   "source": [
    "data['age_scale'] = np.arcsinh(data['age'])"
   ]
  },
  {
   "cell_type": "code",
   "execution_count": 20,
   "metadata": {
    "colab": {
     "base_uri": "https://localhost:8080/",
     "height": 206
    },
    "id": "WT_ZI2UMCbOD",
    "outputId": "31e722ee-002f-4f85-efad-5d2f2ec6926c",
    "tags": []
   },
   "outputs": [
    {
     "data": {
      "text/html": [
       "<div>\n",
       "<style scoped>\n",
       "    .dataframe tbody tr th:only-of-type {\n",
       "        vertical-align: middle;\n",
       "    }\n",
       "\n",
       "    .dataframe tbody tr th {\n",
       "        vertical-align: top;\n",
       "    }\n",
       "\n",
       "    .dataframe thead th {\n",
       "        text-align: right;\n",
       "    }\n",
       "</style>\n",
       "<table border=\"1\" class=\"dataframe\">\n",
       "  <thead>\n",
       "    <tr style=\"text-align: right;\">\n",
       "      <th></th>\n",
       "      <th>age_scale</th>\n",
       "    </tr>\n",
       "  </thead>\n",
       "  <tbody>\n",
       "    <tr>\n",
       "      <th>0</th>\n",
       "      <td>4.753664</td>\n",
       "    </tr>\n",
       "    <tr>\n",
       "      <th>1</th>\n",
       "      <td>4.382183</td>\n",
       "    </tr>\n",
       "    <tr>\n",
       "      <th>2</th>\n",
       "      <td>4.644483</td>\n",
       "    </tr>\n",
       "    <tr>\n",
       "      <th>3</th>\n",
       "      <td>4.330906</td>\n",
       "    </tr>\n",
       "    <tr>\n",
       "      <th>4</th>\n",
       "      <td>4.454482</td>\n",
       "    </tr>\n",
       "  </tbody>\n",
       "</table>\n",
       "</div>"
      ],
      "text/plain": [
       "   age_scale\n",
       "0   4.753664\n",
       "1   4.382183\n",
       "2   4.644483\n",
       "3   4.330906\n",
       "4   4.454482"
      ]
     },
     "execution_count": 20,
     "metadata": {},
     "output_type": "execute_result"
    }
   ],
   "source": [
    "# linear model\n",
    "from sklearn.linear_model import LinearRegression\n",
    "\n",
    "vars = ['age_scale']\n",
    "# other vars: 'totChol_impute','BMI_impute','cigsPerDay_impute'\n",
    "\n",
    "X = data.loc[:,vars]\n",
    "X.head()"
   ]
  },
  {
   "cell_type": "code",
   "execution_count": 21,
   "metadata": {
    "colab": {
     "base_uri": "https://localhost:8080/"
    },
    "id": "14kEckiXDRpY",
    "outputId": "355cf3f7-b430-443e-c028-f5f7c4cf61d9",
    "tags": []
   },
   "outputs": [
    {
     "data": {
      "text/plain": [
       "array([4.7536645 , 4.38218285, 4.64448334, 4.33090643, 4.45448248,\n",
       "       4.71857858, 4.68221695, 4.54340794, 4.80408822, 4.77075644,\n",
       "       4.85209129, 4.4999331 , 4.62506892, 4.83634489, 4.73627539,\n",
       "       4.56445668, 4.5219067 , 4.78756118, 4.35687315, 4.66352808,\n",
       "       4.58507159, 4.60527017, 4.47746592, 4.91270895, 4.40686794,\n",
       "       4.86759362, 4.700563  , 4.2197239 , 4.24869926, 4.30424766,\n",
       "       4.88285931, 4.43095849, 4.8203466 , 4.89789549, 4.27685896,\n",
       "       4.18988423, 4.15912713, 4.94169344, 4.92730619])"
      ]
     },
     "execution_count": 21,
     "metadata": {},
     "output_type": "execute_result"
    }
   ],
   "source": [
    "data['age_scale'].unique()"
   ]
  },
  {
   "cell_type": "code",
   "execution_count": 22,
   "metadata": {
    "colab": {
     "base_uri": "https://localhost:8080/"
    },
    "id": "yO4U1aNK8TJg",
    "outputId": "f7de3bfa-b4ec-4f7c-d959-d7d9886a3fb4",
    "tags": []
   },
   "outputs": [
    {
     "data": {
      "text/plain": [
       "0    1\n",
       "1    0\n",
       "2    0\n",
       "3    0\n",
       "4    0\n",
       "Name: TenYearCHD, dtype: int64"
      ]
     },
     "execution_count": 22,
     "metadata": {},
     "output_type": "execute_result"
    }
   ],
   "source": [
    "y = data['TenYearCHD']\n",
    "y.head()"
   ]
  },
  {
   "cell_type": "code",
   "execution_count": 23,
   "metadata": {
    "colab": {
     "base_uri": "https://localhost:8080/"
    },
    "id": "seSLGG_PFpir",
    "outputId": "7e1de135-347f-4ffc-f8ef-f3a6740751e4",
    "tags": []
   },
   "outputs": [
    {
     "name": "stdout",
     "output_type": "stream",
     "text": [
      "-1.9795718765916395\n",
      "[0.46535258]\n",
      "0.0500268926646269\n"
     ]
    }
   ],
   "source": [
    "reg = LinearRegression().fit(X, y)\n",
    "print(reg.intercept_)\n",
    "print(reg.coef_)\n",
    "print(reg.score(X, y))"
   ]
  },
  {
   "cell_type": "markdown",
   "metadata": {
    "id": "2JjxOnUTAQ6W"
   },
   "source": [
    "Possibly a tree would work better? Even though most of our variables are numeric or able to be treated as such, perhaps a tree would be more fitting for predicting TenYearCHD, which is squarely a categorical variable."
   ]
  },
  {
   "cell_type": "markdown",
   "metadata": {},
   "source": [
    "**Classification Tree Regression:**"
   ]
  },
  {
   "cell_type": "code",
   "execution_count": 24,
   "metadata": {
    "tags": []
   },
   "outputs": [],
   "source": [
    "# dropping NAs from glucose in both the train and test data\n",
    "data = data.dropna(subset=['glucose'])\n",
    "tdata = tdata.dropna(subset=['glucose'])\n",
    "\n",
    "# Relatively few missings, so imputed values\n",
    "tdata['totChol_impute'] = tdata['totChol'].fillna(data['totChol'].mean)\n",
    "tdata['BMI_impute'] = tdata['BMI'].fillna(data['BMI'].mean)\n",
    "tdata['cigsPerDay_impute'] = tdata['cigsPerDay'].fillna(data['cigsPerDay'].median)\n",
    "tdata['education'] = data['education'].dropna()\n",
    "\n",
    "tdata['totChol_impute'] = pd.to_numeric(tdata['totChol_impute'], errors='coerce')\n",
    "tdata['BMI_impute'] = pd.to_numeric(tdata['BMI_impute'], errors='coerce')\n",
    "tdata['cigsPerDay_impute'] = pd.to_numeric(tdata['cigsPerDay_impute'], errors='coerce')\n",
    "tdata['education'] = pd.to_numeric(tdata['education'], errors='coerce')"
   ]
  },
  {
   "cell_type": "code",
   "execution_count": 25,
   "metadata": {
    "tags": []
   },
   "outputs": [
    {
     "data": {
      "image/png": "[encoded data removed]",
      "text/plain": [
       "<Figure size 2000x1000 with 1 Axes>"
      ]
     },
     "metadata": {},
     "output_type": "display_data"
    },
    {
     "name": "stdout",
     "output_type": "stream",
     "text": [
      "Tree rsq:  0.8526645768025078\n"
     ]
    }
   ],
   "source": [
    "from sklearn.tree import DecisionTreeClassifier # Import the tree classifier\n",
    "from sklearn.tree import plot_tree #Import the tree classifier\n",
    "\n",
    "# Process data:\n",
    "y_train = data['TenYearCHD']\n",
    "X_train = data.drop(['TenYearCHD','age_scale','cigsPerDay','BMI','totChol','BMI_nan','cigsPerDay_nan','totChol_nan'], axis=1)\n",
    "var_list = list(X_train.columns)\n",
    "\n",
    "# Fit decision tree:\n",
    "cart = DecisionTreeClassifier(max_depth=3,min_samples_leaf=100) # Create a classifier object, limit depth to 5 to prevent overbranching\n",
    "cart = cart.fit(X_train, y_train) # Fit the classifier\n",
    "\n",
    "# Visualize results:\n",
    "fig, ax = plt.subplots(figsize=(20, 10)) \n",
    "plot_tree(cart,filled=True, ax=ax, fontsize = 12,feature_names=var_list) \n",
    "plt.show()\n",
    "\n",
    "# Compute R-squared error:\n",
    "X_test = tdata.drop(['TenYearCHD','cigsPerDay','BMI','totChol'], axis=1)\n",
    "y_test = tdata['TenYearCHD']\n",
    "y_hat = cart.predict(X_test)\n",
    "\n",
    "print('Tree rsq: ', cart.score(X_test, y_test) ) # R-squared"
   ]
  },
  {
   "cell_type": "markdown",
   "metadata": {},
   "source": [
    "> A lot of the predictive power of the tree seems to come from the first 1-2 nodes, as the R-squared value with `max_depth = 1` is already greater than 0.8. The best predictors of CHD seem to be age, smoking habits, hypertension, blood pressure, and cholesterol. This aligns well with what we would expect, as these attributes are physical characteristics of the cardiovascular system (except smoking, although it heavily affects it). The Classification Tree was built using the training data set with all the glucose `nans` removed and many of ther other `nans` imputed. The tree was then used on the testing set `tdata` which yielded an R-squared of 0.85. For a decision tree with no utilization of random forests, this can be considered a good result. The initial train-test split is why this is a good result — any change in that split will likely lead to different accuracy."
   ]
  }
 ],
 "metadata": {
  "colab": {
   "include_colab_link": true,
   "provenance": []
  },
  "kernelspec": {
   "display_name": "Python 3 (ipykernel)",
   "language": "python",
   "name": "python3"
  },
  "language_info": {
   "codemirror_mode": {
    "name": "ipython",
    "version": 3
   },
   "file_extension": ".py",
   "mimetype": "text/x-python",
   "name": "python",
   "nbconvert_exporter": "python",
   "pygments_lexer": "ipython3",
   "version": "3.11.5"
  }
 },
 "nbformat": 4,
 "nbformat_minor": 4
}
